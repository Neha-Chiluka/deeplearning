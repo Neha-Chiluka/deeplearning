{
  "nbformat": 4,
  "nbformat_minor": 0,
  "metadata": {
    "colab": {
      "name": "chapter 5.ipynb",
      "provenance": [],
      "collapsed_sections": [],
      "toc_visible": true
    },
    "kernelspec": {
      "name": "python3",
      "display_name": "Python 3"
    }
  },
  "cells": [
    {
      "cell_type": "markdown",
      "metadata": {
        "id": "JpJudgT843FA",
        "colab_type": "text"
      },
      "source": [
        "# **Gradient Descent Learning with Multiple Inputs**"
      ]
    },
    {
      "cell_type": "code",
      "metadata": {
        "id": "FONoYMEdyIKu",
        "colab_type": "code",
        "colab": {
          "base_uri": "https://localhost:8080/",
          "height": 50
        },
        "outputId": "761852e7-98f9-40c5-f868-11582c67e6ae"
      },
      "source": [
        "def w_sum(a,b):\n",
        "    assert(len(a) == len(b))\n",
        "    output = 0\n",
        "\n",
        "    for i in range(len(a)):\n",
        "        output += (a[i] * b[i])\n",
        "\n",
        "    return output\n",
        "\n",
        "weights = [0.1, 0.3, -.2] \n",
        "\n",
        "def neural_network(input,weights):\n",
        "    pred = w_sum(input,weights)\n",
        "    return pred\n",
        "\n",
        "bedrooms =  [3, 2, 4, 3, 5]\n",
        "floors = [1, 1, 2, 2, 1]\n",
        "condition = [0.1, 0.85, 0.56, 0.2, 0.35]\n",
        "\n",
        "sold_or_not_binary = [1, 0, 0, 1, 1]\n",
        "\n",
        "true = sold_or_not_binary[0]\n",
        "\n",
        "# Input corresponds to every entry\n",
        "# for the first house of the society.\n",
        "input = [bedrooms[0], floors[0], condition[0]]\n",
        "\n",
        "pred = neural_network(input,weights)\n",
        "error = (pred - true) ** 2\n",
        "delta = pred - true\n",
        "\n",
        "def ele_mul(number,vector):\n",
        "    output = [0,0,0]\n",
        "\n",
        "    assert(len(output) == len(vector))\n",
        "\n",
        "    for i in range(len(vector)):\n",
        "        output[i] = number * vector[i]\n",
        "\n",
        "    return output\n",
        "\n",
        "weight_deltas = ele_mul(delta, input) \n",
        "\n",
        "alpha = 0.01\n",
        "\n",
        "for i in range(len(weights)):\n",
        "    weights[i] -= alpha * weight_deltas[i]\n",
        "    \n",
        "print(\"Weights:\" + str(weights))\n",
        "print(\"Weight Deltas:\" + str(weight_deltas))\n"
      ],
      "execution_count": 19,
      "outputs": [
        {
          "output_type": "stream",
          "text": [
            "Weights:[0.1126, 0.30419999999999997, -0.19958]\n",
            "Weight Deltas:[-1.2599999999999998, -0.41999999999999993, -0.041999999999999996]\n"
          ],
          "name": "stdout"
        }
      ]
    },
    {
      "cell_type": "markdown",
      "metadata": {
        "id": "bds7cx2-ACwx",
        "colab_type": "text"
      },
      "source": [
        "# **Let's Watch Several Steps of Learning**"
      ]
    },
    {
      "cell_type": "code",
      "metadata": {
        "id": "4MDG7xDMAFtd",
        "colab_type": "code",
        "colab": {
          "base_uri": "https://localhost:8080/",
          "height": 420
        },
        "outputId": "d326e9a9-7e60-4f54-fffd-06419f72e752"
      },
      "source": [
        "def neural_network(input, weights):\n",
        "  out = 0\n",
        "  for i in range(len(input)):\n",
        "    out += (input[i] * weights[i])\n",
        "  return out\n",
        "\n",
        "def ele_mul(scalar, vector):\n",
        "  out = [0,0,0]\n",
        "  for i in range(len(out)):\n",
        "    out[i] = vector[i] * scalar\n",
        "  return out\n",
        "\n",
        "bedrooms =  [3, 2, 4, 3, 5]\n",
        "floors = [1, 1, 2, 2, 1]\n",
        "condition = [0.1, 0.85, 0.56, 0.2, 0.35]\n",
        "\n",
        "sold_or_not_binary = [1, 0, 0, 1, 1]\n",
        "true = sold_or_not_binary[0]\n",
        "\n",
        "alpha = 0.01\n",
        "weights = [0.1, 0.3, -.2]\n",
        "input = [bedrooms[0],floors[0], condition[0]]\n",
        "\n",
        "for iter in range(3):\n",
        "\n",
        "  pred = neural_network(input,weights)\n",
        "\n",
        "  error = (pred - true) ** 2\n",
        "  delta = pred - true\n",
        "\n",
        "  weight_deltas=ele_mul(delta,input)\n",
        "\n",
        "  print(\"Iteration:\" + str(iter+1))\n",
        "  print(\"Pred:\" + str(pred))\n",
        "  print(\"Error:\" + str(error))\n",
        "  print(\"Delta:\" + str(delta))\n",
        "  print(\"Weights:\" + str(weights))\n",
        "  print(\"Weight_Deltas:\")\n",
        "  print(str(weight_deltas))\n",
        "  print(\n",
        "  )\n",
        "\n",
        "  for i in range(len(weights)):\n",
        "    weights[i]-=alpha*weight_deltas[i]\n"
      ],
      "execution_count": 21,
      "outputs": [
        {
          "output_type": "stream",
          "text": [
            "Iteration:1\n",
            "Pred:0.5800000000000001\n",
            "Error:0.17639999999999995\n",
            "Delta:-0.41999999999999993\n",
            "Weights:[0.1, 0.3, -0.2]\n",
            "Weight_Deltas:\n",
            "[-1.2599999999999998, -0.41999999999999993, -0.041999999999999996]\n",
            "\n",
            "Iteration:2\n",
            "Pred:0.6220419999999999\n",
            "Error:0.1428522497640001\n",
            "Delta:-0.3779580000000001\n",
            "Weights:[0.1126, 0.30419999999999997, -0.19958]\n",
            "Weight_Deltas:\n",
            "[-1.1338740000000005, -0.3779580000000001, -0.03779580000000002]\n",
            "\n",
            "Iteration:3\n",
            "Pred:0.6598755958\n",
            "Error:0.11568461033240499\n",
            "Delta:-0.3401244042\n",
            "Weights:[0.12393874, 0.30797958, -0.199202042]\n",
            "Weight_Deltas:\n",
            "[-1.0203732126, -0.3401244042, -0.034012440420000005]\n",
            "\n"
          ],
          "name": "stdout"
        }
      ]
    },
    {
      "cell_type": "markdown",
      "metadata": {
        "id": "CbQ8IjzjBwUx",
        "colab_type": "text"
      },
      "source": [
        "# **Freezing One Weight - What Does It Do?**"
      ]
    },
    {
      "cell_type": "code",
      "metadata": {
        "id": "73ydrawMBzpU",
        "colab_type": "code",
        "colab": {
          "base_uri": "https://localhost:8080/",
          "height": 420
        },
        "outputId": "cd4468dc-2bc4-4705-923f-ee9a3b22ef3a"
      },
      "source": [
        "def neural_network(input, weights):\n",
        "  out = 0\n",
        "  for i in range(len(input)):\n",
        "    out += (input[i] * weights[i])\n",
        "  return out\n",
        "\n",
        "def ele_mul(scalar, vector):\n",
        "  out = [0,0,0]\n",
        "  for i in range(len(out)):\n",
        "    out[i] = vector[i] * scalar\n",
        "  return out\n",
        "\n",
        "bedrooms =  [3, 2, 4, 3, 5]\n",
        "floors = [1, 1, 2, 2, 1]\n",
        "condition = [0.1, 0.85, 0.56, 0.2, 0.35]\n",
        "\n",
        "sold_or_not_binary = [1, 0, 0, 1, 1]\n",
        "true = sold_or_not_binary[0]\n",
        "\n",
        "alpha = 0.3\n",
        "weights = [0.1, 0.3, -.2]\n",
        "input = [bedrooms[0], floors[0], condition[0]]\n",
        "\n",
        "for iter in range(3):\n",
        "\n",
        "  pred = neural_network(input,weights)\n",
        "\n",
        "  error = (pred - true) ** 2\n",
        "  delta = pred - true\n",
        "\n",
        "  weight_deltas=ele_mul(delta,input)\n",
        "  weight_deltas[0] = 0\n",
        "\n",
        "  print(\"Iteration:\" + str(iter+1))\n",
        "  print(\"Pred:\" + str(pred))\n",
        "  print(\"Error:\" + str(error))\n",
        "  print(\"Delta:\" + str(delta))\n",
        "  print(\"Weights:\" + str(weights))\n",
        "  print(\"Weight_Deltas:\")\n",
        "  print(str(weight_deltas))\n",
        "  print(\n",
        "  )\n",
        "\n",
        "  for i in range(len(weights)):\n",
        "    weights[i]-=alpha*weight_deltas[i]\n"
      ],
      "execution_count": 22,
      "outputs": [
        {
          "output_type": "stream",
          "text": [
            "Iteration:1\n",
            "Pred:0.5800000000000001\n",
            "Error:0.17639999999999995\n",
            "Delta:-0.41999999999999993\n",
            "Weights:[0.1, 0.3, -0.2]\n",
            "Weight_Deltas:\n",
            "[0, -0.41999999999999993, -0.041999999999999996]\n",
            "\n",
            "Iteration:2\n",
            "Pred:0.70726\n",
            "Error:0.0856967076\n",
            "Delta:-0.29274\n",
            "Weights:[0.1, 0.42599999999999993, -0.1874]\n",
            "Weight_Deltas:\n",
            "[0, -0.29274, -0.029274]\n",
            "\n",
            "Iteration:3\n",
            "Pred:0.7959602199999999\n",
            "Error:0.04163223182244845\n",
            "Delta:-0.20403978000000011\n",
            "Weights:[0.1, 0.5138219999999999, -0.17861780000000002]\n",
            "Weight_Deltas:\n",
            "[0, -0.20403978000000011, -0.020403978000000014]\n",
            "\n"
          ],
          "name": "stdout"
        }
      ]
    },
    {
      "cell_type": "markdown",
      "metadata": {
        "id": "qCWwPkOODDyd",
        "colab_type": "text"
      },
      "source": [
        "# **Gradient Descent Learning with Multiple Outputs**"
      ]
    },
    {
      "cell_type": "code",
      "metadata": {
        "id": "s8ssfq2EDGAf",
        "colab_type": "code",
        "colab": {
          "base_uri": "https://localhost:8080/",
          "height": 50
        },
        "outputId": "c721fcce-fe2a-4fab-f199-d66729ead900"
      },
      "source": [
        "# Instead of predicting just \n",
        "# whether the house get sold or not, \n",
        "# now we're also predicting whether\n",
        "# the house need to be renovated or not\n",
        "# We are making this prediction using only\n",
        "# the condition of the house data point.\n",
        "\n",
        "#utility method for our use case\n",
        "def ele_mul_(scalar, vector):\n",
        "  out = [0,0]\n",
        "  for i in range(len(out)):\n",
        "    out[i] = vector[i] * scalar\n",
        "  return out\n",
        "\n",
        "weights = [-.2, 0.7] \n",
        "\n",
        "def neural_network(input, weights):\n",
        "    pred = ele_mul_(input,weights)\n",
        "    return pred\n",
        "\n",
        "condition = [0.1, 0.85, 0.56, 0.2, 0.35]\n",
        "\n",
        "sold = [1, 0, 0, 1, 1]\n",
        "needs_renovation = [0, 1, 1, 0, 0]\n",
        "\n",
        "input = condition[0]\n",
        "true = [sold[0], needs_renovation[0]]\n",
        "\n",
        "pred = neural_network(input,weights)\n",
        "\n",
        "error = [0, 0] \n",
        "delta = [0, 0]\n",
        "\n",
        "for i in range(len(true)):\n",
        "    error[i] = (pred[i] - true[i]) ** 2\n",
        "    delta[i] = pred[i] - true[i]\n",
        "    \n",
        "def scalar_ele_mul(number,vector):\n",
        "    output = [0,0]\n",
        "\n",
        "    assert(len(output) == len(vector))\n",
        "\n",
        "    for i in range(len(vector)):\n",
        "        output[i] = number * vector[i]\n",
        "\n",
        "    return output\n",
        "\n",
        "weight_deltas = scalar_ele_mul(input,delta)\n",
        "\n",
        "alpha = 0.1\n",
        "\n",
        "for i in range(len(weights)):\n",
        "    weights[i] -= (weight_deltas[i] * alpha)\n",
        "    \n",
        "print(\"Weights:\" + str(weights))\n",
        "print(\"Weight Deltas:\" + str(weight_deltas))"
      ],
      "execution_count": 23,
      "outputs": [
        {
          "output_type": "stream",
          "text": [
            "Weights:[-0.18980000000000002, 0.6992999999999999]\n",
            "Weight Deltas:[-0.10200000000000001, 0.006999999999999999]\n"
          ],
          "name": "stdout"
        }
      ]
    },
    {
      "cell_type": "markdown",
      "metadata": {
        "id": "efPRjoRaZkOF",
        "colab_type": "text"
      },
      "source": [
        "# **Gradient Descent with Multiple Inputs & Outputs**"
      ]
    },
    {
      "cell_type": "code",
      "metadata": {
        "id": "Fq0KAtNHZmSC",
        "colab_type": "code",
        "colab": {}
      },
      "source": [
        "#bedrooms %floors #condition\n",
        "weights = [ [0.05, 0.7], #needs_renovated?\n",
        "            [0.1, -.2]] #sold?\n",
        "\n",
        "def w_sum(a,b):\n",
        "    assert(len(a) == len(b))\n",
        "    output = 0\n",
        "\n",
        "    for i in range(len(a)):\n",
        "        output += (a[i] * b[i])\n",
        "\n",
        "    return output\n",
        "\n",
        "def vect_mat_mul(vect,matrix):\n",
        "    assert(len(vect) == len(matrix))\n",
        "    output = [0,0]\n",
        "    for i in range(len(vect)):\n",
        "        output[i] = w_sum(vect,matrix[i])\n",
        "    return output\n",
        "\n",
        "def neural_network(input, weights):\n",
        "    pred = vect_mat_mul(input,weights)\n",
        "    return pred\n",
        "\n",
        "bedrooms =  [3, 2, 4, 3, 5]\n",
        "condition = [0.1, 0.85, 0.56, 0.2, 0.35]\n",
        "\n",
        "sold = [1, 0, 0, 1, 1]\n",
        "needs_renovation = [0, 1, 1, 0, 0]\n",
        "\n",
        "alpha = 0.01\n",
        "\n",
        "input = [bedrooms[0], condition[0]]\n",
        "true  = [sold[0], needs_renovation[0]]\n",
        "\n",
        "pred = neural_network(input,weights)\n",
        "\n",
        "error = [0, 0] \n",
        "delta = [0, 0]\n",
        "\n",
        "for i in range(len(true)):\n",
        "    error[i] = (pred[i] - true[i]) ** 2\n",
        "    delta[i] = pred[i] - true[i]"
      ],
      "execution_count": 0,
      "outputs": []
    },
    {
      "cell_type": "code",
      "metadata": {
        "id": "N9VdZictdEsm",
        "colab_type": "code",
        "colab": {}
      },
      "source": [
        "import numpy as np\n",
        "def outer_prod(a, b):\n",
        "    \n",
        "    # just a matrix of zeros\n",
        "    out = np.zeros((len(a), len(b)))\n",
        "\n",
        "    for i in range(len(a)):\n",
        "        for j in range(len(b)):\n",
        "            out[i][j] = a[i] * b[j]\n",
        "    return out\n",
        "\n",
        "weight_deltas = outer_prod(delta,input)\n",
        "\n",
        "for i in range(len(weights)):\n",
        "    for j in range(len(weights[0])):\n",
        "        weights[i][j] -= alpha * weight_deltas[i][j]"
      ],
      "execution_count": 0,
      "outputs": []
    },
    {
      "cell_type": "code",
      "metadata": {
        "id": "e7OCptpZdLnU",
        "colab_type": "code",
        "colab": {
          "base_uri": "https://localhost:8080/",
          "height": 50
        },
        "outputId": "60928549-88f6-4728-d349-0b4e6b9840d6"
      },
      "source": [
        "weight_deltas"
      ],
      "execution_count": 27,
      "outputs": [
        {
          "output_type": "execute_result",
          "data": {
            "text/plain": [
              "array([[-2.34 , -0.078],\n",
              "       [ 0.84 ,  0.028]])"
            ]
          },
          "metadata": {
            "tags": []
          },
          "execution_count": 27
        }
      ]
    }
  ]
}