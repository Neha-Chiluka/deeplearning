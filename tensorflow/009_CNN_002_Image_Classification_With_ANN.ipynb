{
 "cells": [
  {
   "cell_type": "markdown",
   "metadata": {},
   "source": [
    "# CNN 2 - Training image classification models with ANNs\n",
    "\n",
    "- **Important** - Training image classifiers with plain ANNs isn't a good idea. We're training a model anyway just to see how good of a model we can get. You should never use ANNs for image classification.\n",
    "\n",
    "- Dataset: \n",
    "    - https://www.kaggle.com/pybear/cats-vs-dogs?select=PetImages\n",
    "\n",
    "- Code: https://github.com/fenago/deeplearning/blob/main/tensorflow/008_CNN_001_Working_With_Image_Data.ipynb\n",
    "    \n",
    "- We'll need a quite a bit of imports:"
   ]
  },
  {
   "cell_type": "code",
   "execution_count": null,
   "metadata": {},
   "outputs": [],
   "source": [
    "import os\n",
    "import pathlib\n",
    "import pickle\n",
    "import numpy as np\n",
    "import pandas as pd\n",
    "import tensorflow as tf\n",
    "from PIL import Image, ImageOps\n",
    "from IPython.display import display\n",
    "from sklearn.utils import shuffle\n",
    "import warnings\n",
    "\n",
    "os.environ['TF_CPP_MIN_LOG_LEVEL'] = '2' \n",
    "warnings.filterwarnings('ignore')"
   ]
  },
  {
   "cell_type": "markdown",
   "metadata": {},
   "source": [
    "- Let's load in an arbitrary image:"
   ]
  },
  {
   "cell_type": "code",
   "execution_count": null,
   "metadata": {},
   "outputs": [],
   "source": [
    "src_img = Image.open('data/train/cat/1.jpg')\n",
    "display(src_img)"
   ]
  },
  {
   "cell_type": "markdown",
   "metadata": {},
   "source": [
    "- Here's the shape (width, height, color channels):"
   ]
  },
  {
   "cell_type": "code",
   "execution_count": null,
   "metadata": {},
   "outputs": [],
   "source": [
    "np.array(src_img).shape"
   ]
  },
  {
   "cell_type": "markdown",
   "metadata": {},
   "source": [
    "- If flattened, it would result in this many features:"
   ]
  },
  {
   "cell_type": "code",
   "execution_count": null,
   "metadata": {},
   "outputs": [],
   "source": [
    "281 * 300 * 3"
   ]
  },
  {
   "cell_type": "markdown",
   "metadata": {},
   "source": [
    "- We can reduce the number by a factor of 3 by grayscaling the image\n",
    "- We still know it's a cat, no matter if we lose the color info:"
   ]
  },
  {
   "cell_type": "code",
   "execution_count": null,
   "metadata": {},
   "outputs": [],
   "source": [
    "gray_img = ImageOps.grayscale(src_img)\n",
    "display(gray_img)"
   ]
  },
  {
   "cell_type": "code",
   "execution_count": null,
   "metadata": {},
   "outputs": [],
   "source": [
    "np.array(gray_img).shape"
   ]
  },
  {
   "cell_type": "code",
   "execution_count": null,
   "metadata": {},
   "outputs": [],
   "source": [
    "281 * 300"
   ]
  },
  {
   "cell_type": "markdown",
   "metadata": {},
   "source": [
    "- It's still a lot, so let's resize the image to something smaller\n",
    "- Let's say 96x96:"
   ]
  },
  {
   "cell_type": "code",
   "execution_count": null,
   "metadata": {},
   "outputs": [],
   "source": [
    "gray_resized_img = gray_img.resize(size=(96, 96))\n",
    "display(gray_resized_img)"
   ]
  },
  {
   "cell_type": "code",
   "execution_count": null,
   "metadata": {},
   "outputs": [],
   "source": [
    "np.array(gray_resized_img).shape"
   ]
  },
  {
   "cell_type": "markdown",
   "metadata": {},
   "source": [
    "- Much less features:"
   ]
  },
  {
   "cell_type": "code",
   "execution_count": null,
   "metadata": {},
   "outputs": [],
   "source": [
    "96 * 96"
   ]
  },
  {
   "cell_type": "markdown",
   "metadata": {},
   "source": [
    "- This is how you can flatten the image and store it as an array:"
   ]
  },
  {
   "cell_type": "code",
   "execution_count": null,
   "metadata": {},
   "outputs": [],
   "source": [
    "np.ravel(gray_resized_img)"
   ]
  },
  {
   "cell_type": "markdown",
   "metadata": {},
   "source": [
    "- The values aren't in an ideal range (0-255)\n",
    "- Neural network model prefers 0-1 range\n",
    "- Let's transform it:"
   ]
  },
  {
   "cell_type": "code",
   "execution_count": null,
   "metadata": {},
   "outputs": [],
   "source": [
    "img_final = np.ravel(gray_resized_img) / 255.0"
   ]
  },
  {
   "cell_type": "code",
   "execution_count": null,
   "metadata": {},
   "outputs": [],
   "source": [
    "img_final"
   ]
  },
  {
   "cell_type": "markdown",
   "metadata": {},
   "source": [
    "- Finally, let's implement all of this in a single function:"
   ]
  },
  {
   "cell_type": "code",
   "execution_count": null,
   "metadata": {},
   "outputs": [],
   "source": [
    "def process_image(img_path: str) -> np.array:\n",
    "    img = Image.open(img_path)\n",
    "    img = ImageOps.grayscale(img)\n",
    "    img = img.resize(size=(96, 96))\n",
    "    img = np.ravel(img) / 255.0\n",
    "    return img"
   ]
  },
  {
   "cell_type": "markdown",
   "metadata": {},
   "source": [
    "- And let's test it:"
   ]
  },
  {
   "cell_type": "code",
   "execution_count": null,
   "metadata": {},
   "outputs": [],
   "source": [
    "tst_img = process_image(img_path='data/validation/dog/10012.jpg')"
   ]
  },
  {
   "cell_type": "code",
   "execution_count": null,
   "metadata": {},
   "outputs": [],
   "source": [
    "tst_img"
   ]
  },
  {
   "cell_type": "code",
   "execution_count": null,
   "metadata": {},
   "outputs": [],
   "source": [
    "Image.fromarray(np.uint8(tst_img * 255).reshape((96, 96)))"
   ]
  },
  {
   "cell_type": "markdown",
   "metadata": {},
   "source": [
    "- It works as expected, so let's apply the same logic to the entire dataset next.\n",
    "\n",
    "<br>\n",
    "\n",
    "## Process the entire dataset"
   ]
  },
  {
   "cell_type": "markdown",
   "metadata": {},
   "source": [
    "- Let's declare a function that will process all images in a given folder\n",
    "- The function returns processed images as a Pandas DataFrame\n",
    "- We'll add an additional column just so we know the class:"
   ]
  },
  {
   "cell_type": "code",
   "execution_count": null,
   "metadata": {},
   "outputs": [],
   "source": [
    "def process_folder(folder: pathlib.PosixPath) -> pd.DataFrame:\n",
    "    # We'll store the images here\n",
    "    processed = []\n",
    "    \n",
    "    # For every image in the directory\n",
    "    for img in folder.iterdir():\n",
    "        # Ensure JPG\n",
    "        if img.suffix == '.jpg':\n",
    "            # Two images failed for whatever reason, so let's just ignore them\n",
    "            try:\n",
    "                processed.append(process_image(img_path=str(img)))\n",
    "            except Exception as _:\n",
    "                continue\n",
    "           \n",
    "    # Convert to pd.DataFrame\n",
    "    processed = pd.DataFrame(processed)\n",
    "    # Add a class column - dog or a cat\n",
    "    processed['class'] = folder.parts[-1]\n",
    "    \n",
    "    return processed"
   ]
  },
  {
   "cell_type": "markdown",
   "metadata": {},
   "source": [
    "- And now let's build ourselves training, validation, and test sets\n",
    "- We'll start with the training set\n",
    "    - Process both cat and dog images\n",
    "    - Concatenate the two datasets\n",
    "    - Save them in a pickle format, just so you don't have to go through the entire process again"
   ]
  },
  {
   "cell_type": "code",
   "execution_count": null,
   "metadata": {},
   "outputs": [],
   "source": [
    "%%time\n",
    "\n",
    "train_cat = process_folder(folder=pathlib.Path.cwd().joinpath('data/train/cat'))\n",
    "train_dog = process_folder(folder=pathlib.Path.cwd().joinpath('data/train/dog'))\n",
    "\n",
    "train_set = pd.concat([train_cat, train_dog], axis=0)\n",
    "\n",
    "with open('train_set.pkl', 'wb') as f:\n",
    "    pickle.dump(train_set, f)"
   ]
  },
  {
   "cell_type": "code",
   "execution_count": null,
   "metadata": {},
   "outputs": [],
   "source": [
    "train_set.head()"
   ]
  },
  {
   "cell_type": "code",
   "execution_count": null,
   "metadata": {},
   "outputs": [],
   "source": [
    "train_set.shape"
   ]
  },
  {
   "cell_type": "markdown",
   "metadata": {},
   "source": [
    "- Now for the test set:"
   ]
  },
  {
   "cell_type": "code",
   "execution_count": null,
   "metadata": {},
   "outputs": [],
   "source": [
    "%%time\n",
    "\n",
    "test_cat = process_folder(folder=pathlib.Path.cwd().joinpath('data/test/cat'))\n",
    "test_dog = process_folder(folder=pathlib.Path.cwd().joinpath('data/test/dog'))\n",
    "\n",
    "test_set = pd.concat([test_cat, test_dog], axis=0)\n",
    "\n",
    "with open('test_set.pkl', 'wb') as f:\n",
    "    pickle.dump(test_set, f)"
   ]
  },
  {
   "cell_type": "code",
   "execution_count": null,
   "metadata": {},
   "outputs": [],
   "source": [
    "test_set.shape"
   ]
  },
  {
   "cell_type": "markdown",
   "metadata": {},
   "source": [
    "- And finally for the validation set:"
   ]
  },
  {
   "cell_type": "code",
   "execution_count": null,
   "metadata": {},
   "outputs": [],
   "source": [
    "%%time\n",
    "\n",
    "valid_cat = process_folder(folder=pathlib.Path.cwd().joinpath('data/validation/cat'))\n",
    "valid_dog = process_folder(folder=pathlib.Path.cwd().joinpath('data/validation/dog'))\n",
    "\n",
    "valid_set = pd.concat([valid_cat, valid_dog], axis=0)\n",
    "\n",
    "with open('valid_set.pkl', 'wb') as f:\n",
    "    pickle.dump(valid_set, f)"
   ]
  },
  {
   "cell_type": "code",
   "execution_count": null,
   "metadata": {},
   "outputs": [],
   "source": [
    "valid_set.shape"
   ]
  },
  {
   "cell_type": "markdown",
   "metadata": {},
   "source": [
    "<br>\n",
    "\n",
    "## Additional processing\n",
    "- Datasets now contain images of cats first, followed by images of dogs\n",
    "- We want to shuffle those datasets, so a neural network  goes through the images in a random order:"
   ]
  },
  {
   "cell_type": "code",
   "execution_count": null,
   "metadata": {},
   "outputs": [],
   "source": [
    "train_set = shuffle(train_set).reset_index(drop=True)\n",
    "valid_set = shuffle(valid_set).reset_index(drop=True)"
   ]
  },
  {
   "cell_type": "code",
   "execution_count": null,
   "metadata": {},
   "outputs": [],
   "source": [
    "train_set.head()"
   ]
  },
  {
   "cell_type": "markdown",
   "metadata": {},
   "source": [
    "- Separate the features from the target:"
   ]
  },
  {
   "cell_type": "code",
   "execution_count": null,
   "metadata": {},
   "outputs": [],
   "source": [
    "X_train = train_set.drop('class', axis=1)\n",
    "y_train = train_set['class']\n",
    "\n",
    "X_valid = valid_set.drop('class', axis=1)\n",
    "y_valid = valid_set['class']\n",
    "\n",
    "X_test = test_set.drop('class', axis=1)\n",
    "y_test = test_set['class']"
   ]
  },
  {
   "cell_type": "markdown",
   "metadata": {},
   "source": [
    "- We need to factorize the target variable\n",
    "- For example, if our classes are ['cat', 'dog'], the function will convert them to integers [0, 1]\n",
    "- Then, each instance is represented as follows:\n",
    "    - Cat: [1, 0]\n",
    "    - Dog: [0, 1]"
   ]
  },
  {
   "cell_type": "code",
   "execution_count": null,
   "metadata": {},
   "outputs": [],
   "source": [
    "y_train.factorize()"
   ]
  },
  {
   "cell_type": "code",
   "execution_count": null,
   "metadata": {},
   "outputs": [],
   "source": [
    "y_train = tf.keras.utils.to_categorical(y_train.factorize()[0], num_classes=2)\n",
    "y_valid = tf.keras.utils.to_categorical(y_valid.factorize()[0], num_classes=2)\n",
    "y_test = tf.keras.utils.to_categorical(y_test.factorize()[0], num_classes=2)"
   ]
  },
  {
   "cell_type": "code",
   "execution_count": null,
   "metadata": {},
   "outputs": [],
   "source": [
    "y_train[:5]"
   ]
  },
  {
   "cell_type": "markdown",
   "metadata": {},
   "source": [
    "<br>\n",
    "\n",
    "## Training the model\n",
    "- The architecture and parameters are completely random\n",
    "- Set it to whatever you want\n",
    "- We have two nodes at the output layer\n",
    "    - Represents two classes - cat and dog\n",
    "- We're using Categorical Crossentropy as a loss function because we have two categories - cat and dog\n",
    "- The model is trained for 100 epochs with a batch size of 128:"
   ]
  },
  {
   "cell_type": "code",
   "execution_count": null,
   "metadata": {},
   "outputs": [],
   "source": [
    "tf.random.set_seed(42)\n",
    "\n",
    "model = tf.keras.Sequential([\n",
    "    tf.keras.layers.Dense(2048, activation='relu'),\n",
    "    tf.keras.layers.Dense(1024, activation='relu'),\n",
    "    tf.keras.layers.Dense(1024, activation='relu'),\n",
    "    tf.keras.layers.Dense(128, activation='relu'),\n",
    "    tf.keras.layers.Dense(2, activation='softmax')\n",
    "])\n",
    "\n",
    "model.compile(\n",
    "    loss=tf.keras.losses.categorical_crossentropy,\n",
    "    optimizer=tf.keras.optimizers.Adam(),\n",
    "    metrics=[tf.keras.metrics.BinaryAccuracy(name='accuracy')]\n",
    ")\n",
    "\n",
    "history = model.fit(\n",
    "    X_train,\n",
    "    y_train,\n",
    "    epochs=100,\n",
    "    batch_size=128,\n",
    "    validation_data=(X_valid, y_valid)\n",
    ")"
   ]
  },
  {
   "cell_type": "markdown",
   "metadata": {},
   "source": [
    "<br>\n",
    "\n",
    "## Inspecting performance\n",
    "- It doesn't look like the best model, as ANNs aren't the best tool for image data\n",
    "- Let's visualize training loss vs. validation loss and training accuracy vs. validation accuracy"
   ]
  },
  {
   "cell_type": "code",
   "execution_count": null,
   "metadata": {},
   "outputs": [],
   "source": [
    "import matplotlib.pyplot as plt\n",
    "from matplotlib import rcParams\n",
    "\n",
    "rcParams['figure.figsize'] = (18, 8)\n",
    "rcParams['axes.spines.top'] = False\n",
    "rcParams['axes.spines.right'] = False"
   ]
  },
  {
   "cell_type": "code",
   "execution_count": null,
   "metadata": {},
   "outputs": [],
   "source": [
    "plt.plot(np.arange(1, 101), history.history['loss'], label='Training Loss')\n",
    "plt.plot(np.arange(1, 101), history.history['val_loss'], label='Validation Loss')\n",
    "plt.title('Training vs. Validation Loss', size=20)\n",
    "plt.xlabel('Epoch', size=14)\n",
    "plt.legend();"
   ]
  },
  {
   "cell_type": "code",
   "execution_count": null,
   "metadata": {},
   "outputs": [],
   "source": [
    "plt.plot(np.arange(1, 101), history.history['accuracy'], label='Training Accuracy')\n",
    "plt.plot(np.arange(1, 101), history.history['val_accuracy'], label='Validation Accuracy')\n",
    "plt.title('Training vs. Validation Accuracy', size=20)\n",
    "plt.xlabel('Epoch', size=14)\n",
    "plt.legend();"
   ]
  },
  {
   "cell_type": "markdown",
   "metadata": {},
   "source": [
    "- The performance is terrible\n",
    "- 60% accuracy for a binary classifier is almost useless\n",
    "- Convolutions can help, and you'll see how in the following notebook"
   ]
  }
 ],
 "metadata": {
  "kernelspec": {
   "display_name": "Python 3",
   "language": "python",
   "name": "python3"
  },
  "language_info": {
   "codemirror_mode": {
    "name": "ipython",
    "version": 3
   },
   "file_extension": ".py",
   "mimetype": "text/x-python",
   "name": "python",
   "nbconvert_exporter": "python",
   "pygments_lexer": "ipython3",
   "version": "3.8.6"
  }
 },
 "nbformat": 4,
 "nbformat_minor": 5
}
