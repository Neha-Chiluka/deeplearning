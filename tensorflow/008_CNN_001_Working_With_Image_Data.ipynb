{
 "cells": [
  {
   "cell_type": "markdown",
   "metadata": {},
   "source": [
    "# CNN 1 - Working with Image data\n",
    "- Dataset:\n",
    "    - https://www.kaggle.com/shaunthesheep/microsoft-catsvsdogs-dataset"
   ]
  },
  {
   "cell_type": "code",
   "execution_count": null,
   "metadata": {},
   "outputs": [],
   "source": [
    "!ls PetImages/"
   ]
  },
  {
   "cell_type": "code",
   "execution_count": null,
   "metadata": {},
   "outputs": [],
   "source": [
    "!ls PetImages/Cat | wc -l"
   ]
  },
  {
   "cell_type": "code",
   "execution_count": null,
   "metadata": {},
   "outputs": [],
   "source": [
    "!ls PetImages/Dog | wc -l"
   ]
  },
  {
   "cell_type": "markdown",
   "metadata": {},
   "source": [
    "- Two folders (one per class), the data isn't split"
   ]
  },
  {
   "cell_type": "code",
   "execution_count": null,
   "metadata": {},
   "outputs": [],
   "source": [
    "import os\n",
    "import random\n",
    "import pathlib\n",
    "import shutil\n",
    "import matplotlib.pyplot as plt"
   ]
  },
  {
   "cell_type": "markdown",
   "metadata": {},
   "source": [
    "- Set these variables however you want\n",
    "- We'll later split the dataset into training/testing/validation sets with a 80:10:10 ratio"
   ]
  },
  {
   "cell_type": "code",
   "execution_count": null,
   "metadata": {},
   "outputs": [],
   "source": [
    "# Distinct image classes\n",
    "img_classes = ['cat', 'dog']\n",
    "\n",
    "# Folders for training, testing, and validation subsets\n",
    "dir_data  = pathlib.Path.cwd().joinpath('data')\n",
    "dir_train = dir_data.joinpath('train')\n",
    "dir_valid = dir_data.joinpath('validation')\n",
    "dir_test  = dir_data.joinpath('test')\n",
    "\n",
    "# Train/Test/Validation split config\n",
    "pct_train = 0.8\n",
    "pct_valid = 0.1\n",
    "pct_test = 0.1"
   ]
  },
  {
   "cell_type": "markdown",
   "metadata": {},
   "source": [
    "<br>\n",
    "\n",
    "## Directory structure\n",
    "- We want to have a folder that contains dedicated folders for training, testing, and validation images\n",
    "- Each of these subfolders will have two folders inside - one for cats, and the other for dogs\n",
    "- We'll declare a function which creates the directory structure:"
   ]
  },
  {
   "cell_type": "code",
   "execution_count": null,
   "metadata": {},
   "outputs": [],
   "source": [
    "def setup_folder_structure() -> None:\n",
    "    # Create base folders if they don't exist\n",
    "    if not dir_data.exists():  dir_data.mkdir()\n",
    "    if not dir_train.exists(): dir_train.mkdir()\n",
    "    if not dir_valid.exists(): dir_valid.mkdir()\n",
    "    if not dir_test.exists():  dir_test.mkdir()\n",
    "    \n",
    "    # Create subfolders for each class\n",
    "    for cls in img_classes:\n",
    "        if not dir_train.joinpath(cls).exists(): dir_train.joinpath(cls).mkdir()\n",
    "        if not dir_valid.joinpath(cls).exists(): dir_valid.joinpath(cls).mkdir()\n",
    "        if not dir_test.joinpath(cls).exists():  dir_test.joinpath(cls).mkdir()\n",
    "        \n",
    "    # Print the directory structure\n",
    "    # Credits - https://stackoverflow.com/questions/3455625/linux-command-to-print-directory-structure-in-the-form-of-a-tree\n",
    "    dir_str = os.system('''ls -R data | grep \":$\" | sed -e 's/:$//' -e 's/[^-][^\\/]*\\//--/g' -e 's/^/   /' -e 's/-/|/' ''')\n",
    "    print(dir_str)\n",
    "    return"
   ]
  },
  {
   "cell_type": "code",
   "execution_count": null,
   "metadata": {},
   "outputs": [],
   "source": [
    "setup_folder_structure()"
   ]
  },
  {
   "cell_type": "markdown",
   "metadata": {},
   "source": [
    "<br>\n",
    "\n",
    "## Train/Test/Validation split\n",
    "- It's recommended to have three subsets when training image models\n",
    "    - **Training set** - The largest subset on which the model trains\n",
    "    - **Validation sets** - A separate set used for evaluation during training\n",
    "    - **Test set** - Used to perform a final test, images were never seen by the model\n",
    "    \n",
    "- We'll go over every image in cat or dog folder, and then create a random number between 0 and 1\n",
    "    - If the random number is 0.80 or below, the image will belong to the training set\n",
    "    - If the random number is between 0.80 and 0.90, the image will belong to the validation set\n",
    "    - Else, the image will belong to the test set\n",
    "    - You can use the `shutil` module to copy the images"
   ]
  },
  {
   "cell_type": "code",
   "execution_count": null,
   "metadata": {},
   "outputs": [],
   "source": [
    "def train_test_validation_split(src_folder: pathlib.PosixPath, class_name: str) -> dict:\n",
    "    # For tracking\n",
    "    n_train, n_valid, n_test = 0, 0, 0\n",
    "    \n",
    "    # Random seed for reproducibility\n",
    "    random.seed(42)\n",
    "    \n",
    "    # Iterate over every image\n",
    "    for file in src_folder.iterdir():\n",
    "        img_name = str(file).split('/')[-1]\n",
    "        \n",
    "        # Make sure it's JPG\n",
    "        if file.suffix == '.jpg':\n",
    "            # Generate a random number\n",
    "            x = random.random()\n",
    "            \n",
    "            # Where should the image go?\n",
    "            tgt_dir = ''\n",
    "            \n",
    "            # .80 or below\n",
    "            if x <= pct_train:  \n",
    "                tgt_dir = 'train'\n",
    "                n_train += 1\n",
    "                \n",
    "            # Between .80 and .90\n",
    "            elif pct_train < x <= (pct_train + pct_valid):  \n",
    "                tgt_dir = 'validation'\n",
    "                n_valid += 1\n",
    "                \n",
    "            # Above .90\n",
    "            else:  \n",
    "                tgt_dir = 'test'\n",
    "                n_test += 1\n",
    "                \n",
    "            # Copy the image\n",
    "            shutil.copy(\n",
    "                src=file,\n",
    "                # data/<train|valid|test>/<cat\\dog>/<something>.jpg\n",
    "                dst=f'{str(dir_data)}/{tgt_dir}/{class_name}/{img_name}'\n",
    "            )\n",
    "            \n",
    "    return {\n",
    "        'source': str(src_folder),\n",
    "        'target': str(dir_data),\n",
    "        'n_train': n_train,\n",
    "        'n_validaiton': n_valid,\n",
    "        'n_test': n_test\n",
    "    }"
   ]
  },
  {
   "cell_type": "code",
   "execution_count": null,
   "metadata": {},
   "outputs": [],
   "source": [
    "%%time\n",
    "\n",
    "train_test_validation_split(\n",
    "    src_folder=pathlib.Path.cwd().joinpath('PetImages/Cat'),\n",
    "    class_name='cat'\n",
    ")"
   ]
  },
  {
   "cell_type": "code",
   "execution_count": null,
   "metadata": {},
   "outputs": [],
   "source": [
    "%%time\n",
    "\n",
    "train_test_validation_split(\n",
    "    src_folder=pathlib.Path.cwd().joinpath('PetImages/Dog'),\n",
    "    class_name='dog'\n",
    ")"
   ]
  },
  {
   "cell_type": "markdown",
   "metadata": {},
   "source": [
    "- It's not a perfect 80:10:10 split due to randomization, but it will do\n",
    "\n",
    "<br>\n",
    "\n",
    "## Visualizng images\n",
    "- Always visualize the dataset when working with images\n",
    "- This function plots a random subset of 10 images from a given directory\n",
    "- The images are displayed in a grid of 2 rows and 5 columns:"
   ]
  },
  {
   "cell_type": "code",
   "execution_count": null,
   "metadata": {},
   "outputs": [],
   "source": [
    "def plot_random_sample(img_dir: pathlib.PosixPath):\n",
    "    # How many images we're showing\n",
    "    n = 10\n",
    "    # Get absolute paths to these N images\n",
    "    imgs = random.sample(list(img_dir.iterdir()), n)\n",
    "    \n",
    "    # Make sure num_row * num_col = n\n",
    "    num_row = 2\n",
    "    num_col = 5 \n",
    "\n",
    "    # Create a figure\n",
    "    fig, axes = plt.subplots(num_row, num_col, figsize=(3.5 * num_col, 3 * num_row))\n",
    "    # For every image\n",
    "    for i in range(num_row * num_col):\n",
    "        # Read the image\n",
    "        img = plt.imread(str(imgs[i]))\n",
    "        # Display the image\n",
    "        ax = axes[i // num_col, i % num_col]\n",
    "        ax.imshow(img)\n",
    "        # Set title as <train|test|validation>/<cat\\dog>/<img_name>.jpg\n",
    "        ax.set_title('/'.join(str(imgs[i]).split('/')[-3:]))\n",
    "\n",
    "    plt.tight_layout()\n",
    "    plt.show()"
   ]
  },
  {
   "cell_type": "code",
   "execution_count": null,
   "metadata": {},
   "outputs": [],
   "source": [
    "plot_random_sample(img_dir=pathlib.Path().cwd().joinpath('data/train/cat'))"
   ]
  },
  {
   "cell_type": "code",
   "execution_count": null,
   "metadata": {},
   "outputs": [],
   "source": [
    "plot_random_sample(img_dir=pathlib.Path().cwd().joinpath('data/validation/dog'))"
   ]
  },
  {
   "cell_type": "markdown",
   "metadata": {},
   "source": [
    "<br>\n",
    "\n",
    "## What's next?\n",
    "- We'll explore what image data actually is and how to work with it"
   ]
  }
 ],
 "metadata": {
  "kernelspec": {
   "display_name": "Python 3",
   "language": "python",
   "name": "python3"
  },
  "language_info": {
   "codemirror_mode": {
    "name": "ipython",
    "version": 3
   },
   "file_extension": ".py",
   "mimetype": "text/x-python",
   "name": "python",
   "nbconvert_exporter": "python",
   "pygments_lexer": "ipython3",
   "version": "3.8.6"
  }
 },
 "nbformat": 4,
 "nbformat_minor": 5
}
