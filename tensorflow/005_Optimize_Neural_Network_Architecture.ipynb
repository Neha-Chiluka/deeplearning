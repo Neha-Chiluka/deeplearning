{
 "cells": [
  {
   "cell_type": "markdown",
   "id": "3e2f0867-f2d1-4fff-81fd-b3b1c0b7f045",
   "metadata": {},
   "source": [
    "# Data preparation\n",
    "- https://www.kaggle.com/shelvigarg/wine-quality-dataset\n",
    "- Refer to https://github.com/fenago/deeplearning/blob/main/tensorflow/003_TensorFlow_Classification.ipynb for detailed preparation instructions"
   ]
  },
  {
   "cell_type": "code",
   "execution_count": null,
   "id": "7d02ea72-99ff-42f8-a7f6-533ba60c833c",
   "metadata": {},
   "outputs": [],
   "source": [
    "import os\n",
    "import numpy as np\n",
    "import pandas as pd\n",
    "import itertools\n",
    "import warnings\n",
    "os.environ['TF_CPP_MIN_LOG_LEVEL'] = '2' \n",
    "warnings.filterwarnings('ignore')\n",
    "\n",
    "df = pd.read_csv('data/winequalityN.csv')\n",
    "df.sample(5)"
   ]
  },
  {
   "cell_type": "code",
   "execution_count": null,
   "id": "cfcaaa20-6c4a-433f-b634-2cef2ef667e5",
   "metadata": {},
   "outputs": [],
   "source": [
    "from sklearn.model_selection import train_test_split\n",
    "from sklearn.preprocessing import StandardScaler\n",
    "\n",
    "\n",
    "# Prepare the data\n",
    "df = df.dropna()\n",
    "df['is_white_wine'] = [1 if typ == 'white' else 0 for typ in df['type']]\n",
    "df['is_good_wine'] = [1 if quality >= 6 else 0 for quality in df['quality']]\n",
    "df.drop(['type', 'quality'], axis=1, inplace=True)\n",
    "\n",
    "# Train/test split\n",
    "X = df.drop('is_good_wine', axis=1)\n",
    "y = df['is_good_wine']\n",
    "X_train, X_test, y_train, y_test = train_test_split(\n",
    "    X, y, \n",
    "    test_size=0.2, random_state=42\n",
    ")\n",
    "\n",
    "# Scaling\n",
    "scaler = StandardScaler()\n",
    "X_train_scaled = scaler.fit_transform(X_train)\n",
    "X_test_scaled = scaler.transform(X_test)"
   ]
  },
  {
   "cell_type": "markdown",
   "id": "177edf80-99c0-4395-aef4-7b44fa3e11ac",
   "metadata": {},
   "source": [
    "<br>\n",
    "\n",
    "# How will we approach optimization"
   ]
  },
  {
   "cell_type": "code",
   "execution_count": null,
   "id": "44c10656-7d55-44c2-a4d6-f3cd152d9408",
   "metadata": {},
   "outputs": [],
   "source": [
    "import tensorflow as tf\n",
    "tf.random.set_seed(42)"
   ]
  },
  {
   "cell_type": "markdown",
   "id": "7defa96c-6231-44af-b798-c181959c4f15",
   "metadata": {},
   "source": [
    "- Let's declare some constants\n",
    "    - We want to optimize a network with 3 hidden layers\n",
    "    - Each hidden layer can have from 64 to 256 nodes\n",
    "    - The step size between nodes is 64\n",
    "        - So the possibilities are: 64, 128, 192, 256"
   ]
  },
  {
   "cell_type": "code",
   "execution_count": null,
   "id": "81c3c263-e03b-44c2-a401-e986eda4af6c",
   "metadata": {},
   "outputs": [],
   "source": [
    "num_layers = 3\n",
    "min_nodes_per_layer, max_nodes_per_layer = 64, 256\n",
    "node_step_size = 64"
   ]
  },
  {
   "cell_type": "markdown",
   "id": "af1b807e-1d23-4b86-a469-99e902a12289",
   "metadata": {},
   "source": [
    "- Possibilities:"
   ]
  },
  {
   "cell_type": "code",
   "execution_count": null,
   "id": "b085f18a-7b3c-4cdc-b77e-50bed49e8d4e",
   "metadata": {},
   "outputs": [],
   "source": [
    "node_options = list(range(\n",
    "    min_nodes_per_layer, \n",
    "    max_nodes_per_layer + 1, \n",
    "    node_step_size\n",
    "))\n",
    "node_options"
   ]
  },
  {
   "cell_type": "markdown",
   "id": "09825b27-1194-44c2-8ff6-b3538036053b",
   "metadata": {},
   "source": [
    "- Taking them to two layers:"
   ]
  },
  {
   "cell_type": "code",
   "execution_count": null,
   "id": "8e81a831-0431-45bc-b38f-49dc5ba62441",
   "metadata": {},
   "outputs": [],
   "source": [
    "two_layer_possibilities = [node_options, node_options]\n",
    "two_layer_possibilities"
   ]
  },
  {
   "cell_type": "markdown",
   "id": "4df52357-5bf9-4df8-8797-ff4c09455be3",
   "metadata": {},
   "source": [
    "- And now it's just a task of calculating all permutations between these two lists:"
   ]
  },
  {
   "cell_type": "code",
   "execution_count": null,
   "id": "a442b96c-53a7-40d2-9997-cd12b771b8b6",
   "metadata": {},
   "outputs": [],
   "source": [
    "list(itertools.product(*two_layer_possibilities))"
   ]
  },
  {
   "cell_type": "markdown",
   "id": "02ecc297-4c38-455c-ba07-16408fcf026c",
   "metadata": {},
   "source": [
    "- We want to optimize a 3-layer-deep neural network, so we'll have a bit more possibilities:"
   ]
  },
  {
   "cell_type": "code",
   "execution_count": null,
   "id": "22b7259c-796c-48df-b722-89e0c6d752cd",
   "metadata": {},
   "outputs": [],
   "source": [
    "layer_possibilities = [node_options] * num_layers\n",
    "layer_possibilities"
   ]
  },
  {
   "cell_type": "markdown",
   "id": "6910711c-5f28-4596-a144-256dfef759ce",
   "metadata": {},
   "source": [
    "- Here are the permutations:"
   ]
  },
  {
   "cell_type": "code",
   "execution_count": null,
   "id": "ef365068-da6f-4653-9130-0d1c543dd6bf",
   "metadata": {},
   "outputs": [],
   "source": [
    "layer_node_permutations = list(itertools.product(*layer_possibilities))\n",
    "layer_node_permutations"
   ]
  },
  {
   "cell_type": "markdown",
   "id": "25982c3a-f544-4165-bb25-b8fd8c473886",
   "metadata": {},
   "source": [
    "We'll iterate over the permutations and then iterate again over the values of individual permutation to get the node count for each hidden layer:"
   ]
  },
  {
   "cell_type": "code",
   "execution_count": null,
   "id": "fe0e2757-9d3a-4705-9ff5-c5827c29460b",
   "metadata": {},
   "outputs": [],
   "source": [
    "for permutation in layer_node_permutations[:2]:\n",
    "    for nodes_at_layer in permutation:\n",
    "        print(nodes_at_layer)\n",
    "    print()"
   ]
  },
  {
   "cell_type": "markdown",
   "id": "3921118a-050f-4d69-8518-df588b0de4f3",
   "metadata": {},
   "source": [
    "- We'll create a new `Sequential` model at each iteration\n",
    "    - And add an `InputLayer` to it with a shape of `(12,)` (the number of columns in our dataset)\n",
    "- Then, we'll iterate over the items in a single permutation and add a `Dense` layer to the model with the current number of nodes\n",
    "- Finally, we'll add a `Dense` output layer\n",
    "- We'll also setting a name to the model so it's easier to compare them later:"
   ]
  },
  {
   "cell_type": "code",
   "execution_count": null,
   "id": "d664c48c-1698-4c5b-aa54-a420ff6d734a",
   "metadata": {},
   "outputs": [],
   "source": [
    "models = []\n",
    "\n",
    "for permutation in layer_node_permutations:\n",
    "    model = tf.keras.Sequential()\n",
    "    model.add(tf.keras.layers.InputLayer(input_shape=(12,)))\n",
    "    model_name = ''\n",
    "    \n",
    "    for nodes_at_layer in permutation:\n",
    "        model.add(tf.keras.layers.Dense(nodes_at_layer, activation='relu'))\n",
    "        model_name += f'dense{nodes_at_layer}_'\n",
    "        \n",
    "    model.add(tf.keras.layers.Dense(1, activation='sigmoid'))\n",
    "    model._name = model_name[:-1]\n",
    "    \n",
    "    models.append(model)"
   ]
  },
  {
   "cell_type": "markdown",
   "id": "a7e85ed4-0bef-4969-9f33-86d6b8eb416e",
   "metadata": {},
   "source": [
    "- Here's how a single model looks like:"
   ]
  },
  {
   "cell_type": "code",
   "execution_count": null,
   "id": "bcc34acb-44c5-4b06-ab11-2de3a83f0c0a",
   "metadata": {},
   "outputs": [],
   "source": [
    "models[0].summary()"
   ]
  },
  {
   "cell_type": "markdown",
   "id": "46c3464d-f777-49f2-a1de-21f1dc0f6c5c",
   "metadata": {},
   "source": [
    "- Not too bad, right?\n",
    "- Let's wrap all this logic into a single function next.\n",
    "\n",
    "<br><br>\n",
    "\n",
    "# Get architecture possibilities from a function\n",
    "- This one will have a lot of parameters\n",
    "- But it doesn't do anything we haven't discussed so far:"
   ]
  },
  {
   "cell_type": "code",
   "execution_count": null,
   "id": "0ca95622-7d80-4081-af90-3e5202d08535",
   "metadata": {},
   "outputs": [],
   "source": [
    "def get_models(num_layers: int,\n",
    "               min_nodes_per_layer: int,\n",
    "               max_nodes_per_layer: int,\n",
    "               node_step_size: int,\n",
    "               input_shape: tuple,\n",
    "               hidden_layer_activation: str = 'relu',\n",
    "               num_nodes_at_output: int = 1,\n",
    "               output_layer_activation: str = 'sigmoid') -> list:\n",
    "    \n",
    "    node_options = list(range(min_nodes_per_layer, max_nodes_per_layer + 1, node_step_size))\n",
    "    layer_possibilities = [node_options] * num_layers\n",
    "    layer_node_permutations = list(itertools.product(*layer_possibilities))\n",
    "    \n",
    "    models = []\n",
    "    for permutation in layer_node_permutations:\n",
    "        model = tf.keras.Sequential()\n",
    "        model.add(tf.keras.layers.InputLayer(input_shape=input_shape))\n",
    "        model_name = ''\n",
    "\n",
    "        for nodes_at_layer in permutation:\n",
    "            model.add(tf.keras.layers.Dense(nodes_at_layer, activation=hidden_layer_activation))\n",
    "            model_name += f'dense{nodes_at_layer}_'\n",
    "\n",
    "        model.add(tf.keras.layers.Dense(num_nodes_at_output, activation=output_layer_activation))\n",
    "        model._name = model_name[:-1]\n",
    "        models.append(model)\n",
    "        \n",
    "    return models"
   ]
  },
  {
   "cell_type": "markdown",
   "id": "970923d9-85ed-40d4-8733-5d0dd74f6ecc",
   "metadata": {},
   "source": [
    "- Let's test it:"
   ]
  },
  {
   "cell_type": "code",
   "execution_count": null,
   "id": "714f55ab-8555-4fcd-b5fb-7ed875fa52b2",
   "metadata": {},
   "outputs": [],
   "source": [
    "all_models = get_models(\n",
    "    num_layers=3, \n",
    "    min_nodes_per_layer=64, \n",
    "    max_nodes_per_layer=256, \n",
    "    node_step_size=64, \n",
    "    input_shape=(12,)\n",
    ")"
   ]
  },
  {
   "cell_type": "markdown",
   "id": "3f798f64-f3bd-4047-8a25-cc57b4c17da5",
   "metadata": {},
   "source": [
    "- Let's print the names and the count:"
   ]
  },
  {
   "cell_type": "code",
   "execution_count": null,
   "id": "be548fc2-940e-44e8-ac9f-a5684d33e5a0",
   "metadata": {},
   "outputs": [],
   "source": [
    "print(f'#Models = {len(all_models)}')\n",
    "print()\n",
    "\n",
    "for model in all_models:\n",
    "    print(model.name)"
   ]
  },
  {
   "cell_type": "markdown",
   "id": "5433d59e-e36a-4866-8887-391dcb497bdd",
   "metadata": {},
   "source": [
    "- So we have 64 models in total\n",
    "- It will take some time to optimize\n",
    "- Let's declare another function for that\n",
    "\n",
    "<br><br>\n",
    "\n",
    "# Model optimization function\n",
    "- This one will accept the list of models, training and testing sets (both features and the target), and optionally a number of epochs and verbosity\n",
    "    - It's advised to set verbosity to 0 so you don't get overwhelmed with the console output"
   ]
  },
  {
   "cell_type": "code",
   "execution_count": null,
   "id": "a7ad3417-a53b-44ac-a37d-5a911ffc7b65",
   "metadata": {},
   "outputs": [],
   "source": [
    "from sklearn.metrics import accuracy_score, precision_score, recall_score, f1_score"
   ]
  },
  {
   "cell_type": "code",
   "execution_count": null,
   "id": "aa4c1af5-8c67-4c19-9fa8-63926ea2b6c6",
   "metadata": {},
   "outputs": [],
   "source": [
    "def optimize(models: list,\n",
    "             X_train: np.array,\n",
    "             y_train: np.array,\n",
    "             X_test: np.array,\n",
    "             y_test: np.array,\n",
    "             epochs: int = 50,\n",
    "             verbose: int = 0) -> pd.DataFrame:\n",
    "    \n",
    "    # We'll store the results here\n",
    "    results = []\n",
    "    \n",
    "    def train(model: tf.keras.Sequential) -> dict:\n",
    "        # Change this however you want\n",
    "        model.compile(\n",
    "            loss=tf.keras.losses.binary_crossentropy,\n",
    "            optimizer=tf.keras.optimizers.Adam(),\n",
    "            metrics=[\n",
    "                tf.keras.metrics.BinaryAccuracy(name='accuracy')\n",
    "            ]\n",
    "        )\n",
    "        \n",
    "        # Train the model\n",
    "        model.fit(\n",
    "            X_train,\n",
    "            y_train,\n",
    "            epochs=epochs,\n",
    "            verbose=verbose\n",
    "        )\n",
    "        \n",
    "        # Make predictions on the test set\n",
    "        preds = model.predict(X_test)\n",
    "        prediction_classes = [1 if prob > 0.5 else 0 for prob in np.ravel(preds)]\n",
    "        \n",
    "        # Return evaluation metrics on the test set\n",
    "        return {\n",
    "            'model_name': model.name,\n",
    "            'test_accuracy': accuracy_score(y_test, prediction_classes),\n",
    "            'test_precision': precision_score(y_test, prediction_classes),\n",
    "            'test_recall': recall_score(y_test, prediction_classes),\n",
    "            'test_f1': f1_score(y_test, prediction_classes)\n",
    "        }\n",
    "    \n",
    "    # Train every model and save results\n",
    "    for model in models:\n",
    "        try:\n",
    "            print(model.name, end=' ... ')\n",
    "            res = train(model=model)\n",
    "            results.append(res)\n",
    "        except Exception as e:\n",
    "            print(f'{model.name} --> {str(e)}')\n",
    "        \n",
    "    return pd.DataFrame(results)"
   ]
  },
  {
   "cell_type": "markdown",
   "id": "9f7817f8-e353-45b9-925b-4f9c4a158c01",
   "metadata": {},
   "source": [
    "- Let's optimize the architecture!\n",
    "- It will take some time"
   ]
  },
  {
   "cell_type": "code",
   "execution_count": null,
   "id": "d4617681-a35b-45e0-9e83-04e9d913f599",
   "metadata": {},
   "outputs": [],
   "source": [
    "optimization_results = optimize(\n",
    "    models=models,\n",
    "    X_train=X_train_scaled,\n",
    "    y_train=y_train,\n",
    "    X_test=X_test_scaled,\n",
    "    y_test=y_test\n",
    ")"
   ]
  },
  {
   "cell_type": "code",
   "execution_count": null,
   "id": "3d266ebe-21c3-4227-a3f2-7c144384ce86",
   "metadata": {},
   "outputs": [],
   "source": [
    "optimization_results.sort_values(by='test_accuracy', ascending=False)"
   ]
  },
  {
   "cell_type": "markdown",
   "id": "fb132b54-13d5-4c25-8f4b-6feb6a873c55",
   "metadata": {},
   "source": [
    "- And there you have it!"
   ]
  }
 ],
 "metadata": {
  "kernelspec": {
   "display_name": "Python 3 (ipykernel)",
   "language": "python",
   "name": "python3"
  },
  "language_info": {
   "codemirror_mode": {
    "name": "ipython",
    "version": 3
   },
   "file_extension": ".py",
   "mimetype": "text/x-python",
   "name": "python",
   "nbconvert_exporter": "python",
   "pygments_lexer": "ipython3",
   "version": "3.10.5"
  }
 },
 "nbformat": 4,
 "nbformat_minor": 5
}
