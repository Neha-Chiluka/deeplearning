{
 "cells": [
  {
   "cell_type": "markdown",
   "id": "bf010558-7354-4f8d-b33a-b5d2ff761628",
   "metadata": {},
   "source": [
    "# Dataset import and exploration\n",
    "- https://www.kaggle.com/shelvigarg/wine-quality-dataset\n",
    "- Refer to https://github.com/fenago/deeplearning/blob/main/tensorflow/003_TensorFlow_Classification.ipynb for detailed preparation instructions"
   ]
  },
  {
   "cell_type": "code",
   "execution_count": null,
   "id": "ca51a1b1-bba1-4832-b177-e0be1f3aee9e",
   "metadata": {},
   "outputs": [],
   "source": [
    "import os\n",
    "import numpy as np\n",
    "import pandas as pd\n",
    "import warnings\n",
    "os.environ['TF_CPP_MIN_LOG_LEVEL'] = '2' \n",
    "warnings.filterwarnings('ignore')\n",
    "\n",
    "df = pd.read_csv('data/winequalityN.csv')\n",
    "df.sample(5)"
   ]
  },
  {
   "cell_type": "code",
   "execution_count": null,
   "id": "5f8ccfbf-d0f9-4128-ab3b-d6ab1489f205",
   "metadata": {},
   "outputs": [],
   "source": [
    "from sklearn.model_selection import train_test_split\n",
    "from sklearn.preprocessing import StandardScaler\n",
    "\n",
    "\n",
    "# Prepare the data\n",
    "df = df.dropna()\n",
    "df['is_white_wine'] = [1 if typ == 'white' else 0 for typ in df['type']]\n",
    "df['is_good_wine'] = [1 if quality >= 6 else 0 for quality in df['quality']]\n",
    "df.drop(['type', 'quality'], axis=1, inplace=True)\n",
    "\n",
    "# Train/test split\n",
    "X = df.drop('is_good_wine', axis=1)\n",
    "y = df['is_good_wine']\n",
    "X_train, X_test, y_train, y_test = train_test_split(\n",
    "    X, y, \n",
    "    test_size=0.2, random_state=42\n",
    ")\n",
    "\n",
    "# Scaling\n",
    "scaler = StandardScaler()\n",
    "X_train_scaled = scaler.fit_transform(X_train)\n",
    "X_test_scaled = scaler.transform(X_test)"
   ]
  },
  {
   "cell_type": "markdown",
   "id": "d6e70cb7-d3e7-49b0-aeb7-aa2a3ca19a41",
   "metadata": {},
   "source": [
    "<br>\n",
    "\n",
    "# Modelling"
   ]
  },
  {
   "cell_type": "code",
   "execution_count": null,
   "id": "8e42d1f6-1c30-4334-8397-b8772f958979",
   "metadata": {},
   "outputs": [],
   "source": [
    "import tensorflow as tf\n",
    "tf.random.set_seed(42)"
   ]
  },
  {
   "cell_type": "markdown",
   "id": "83bed9be-de94-4a6f-bb1d-5fd571f697a4",
   "metadata": {},
   "source": [
    "<br>\n",
    "\n",
    "## Callbacks list\n",
    "- I like to declare it beforehand\n",
    "\n",
    "### `ModelCheckpoint`\n",
    "- It will save the model locally on the current epoch if it beats the performance on the previous one\n",
    "- The configuration below saves it to a `hdf5` file in the following format:\n",
    "    - `<dir>/model-<epoch>-<accuracy>.hdf5`\n",
    "- Model is saved only if the validation accuracy is higher than on the previous epoch"
   ]
  },
  {
   "cell_type": "code",
   "execution_count": null,
   "id": "ae4dc04b-530f-4320-831e-d31b311f69dd",
   "metadata": {},
   "outputs": [],
   "source": [
    "cb_checkpoint = tf.keras.callbacks.ModelCheckpoint(\n",
    "    filepath='checkpoints/model-{epoch:02d}-{val_accuracy:.2f}.hdf5',\n",
    "    monitor='val_accuracy',\n",
    "    mode='max',\n",
    "    save_best_only=True,\n",
    "    verbose=1\n",
    ")"
   ]
  },
  {
   "cell_type": "markdown",
   "id": "7509f244-b817-44ba-9221-44606ac21d4f",
   "metadata": {},
   "source": [
    "### `ReduceLROnPlateau`\n",
    "- Basically if a metric (validation loss) doesn't decrease for a number of epochs (10), reduce the learning rate\n",
    "- New learning rate = old learning rate * factor (0.1)\n",
    "    - nlr = 0.01 * 0.1 = 0.001\n",
    "- You can also set the minimum learning rate below the model won't go"
   ]
  },
  {
   "cell_type": "code",
   "execution_count": null,
   "id": "be8e7d24-ea3a-48a1-8deb-8373b1978213",
   "metadata": {},
   "outputs": [],
   "source": [
    "cb_reducelr = tf.keras.callbacks.ReduceLROnPlateau(\n",
    "    monitor='val_loss',\n",
    "    mode='min',\n",
    "    factor=0.1,\n",
    "    patience=10,\n",
    "    verbose=1,\n",
    "    min_lr=0.00001\n",
    ")"
   ]
  },
  {
   "cell_type": "markdown",
   "id": "ffe6748b-df60-4a4e-b3cc-9e51f0ed66b7",
   "metadata": {},
   "source": [
    "### `EarlyStopping`\n",
    "- If a metric (validation accuracy) doesn't increase by some minimum delta (0.001) for a given number of epochs (10) - kill the training process\n"
   ]
  },
  {
   "cell_type": "code",
   "execution_count": null,
   "id": "c438c4ed-34e7-4ba0-8564-20601d46f80f",
   "metadata": {},
   "outputs": [],
   "source": [
    "cb_earlystop = tf.keras.callbacks.EarlyStopping(\n",
    "    monitor='val_accuracy',\n",
    "    mode='max',\n",
    "    min_delta=0.001,\n",
    "    patience=10,\n",
    "    verbose=1\n",
    ")"
   ]
  },
  {
   "cell_type": "markdown",
   "id": "9b94763b-b620-4aac-9475-5925d87b87a5",
   "metadata": {},
   "source": [
    "### `CSVLogger`\n",
    "- Captures model training history and dumps it to a CSV file\n",
    "- Useful for analyzing the performance later"
   ]
  },
  {
   "cell_type": "code",
   "execution_count": null,
   "id": "0a82de6e-fa77-4701-a18f-82e0bd403f6f",
   "metadata": {},
   "outputs": [],
   "source": [
    "cb_csvlogger = tf.keras.callbacks.CSVLogger(\n",
    "    filename='training_log.csv',\n",
    "    separator=',',\n",
    "    append=False\n",
    ")"
   ]
  },
  {
   "cell_type": "markdown",
   "id": "5aa112e1-97f3-4e81-a598-d7f45795d769",
   "metadata": {},
   "source": [
    "<br>\n",
    "\n",
    "- For simplicity's sake we'll treat test set as a validation set\n",
    "- In real deep learning projects you'll want to have 3 sets: training, validation, and test\n",
    "- We'll tell the model to train for 1000 epochs, but the `EarlyStopping` callback will kill it way before\n",
    "- Specify callbacks in the `fit()` function"
   ]
  },
  {
   "cell_type": "code",
   "execution_count": null,
   "id": "3b611c9b-7da2-4b16-9161-272bf69abecf",
   "metadata": {},
   "outputs": [],
   "source": [
    "model = tf.keras.Sequential([\n",
    "    tf.keras.layers.Dense(64, activation='relu'),\n",
    "    tf.keras.layers.Dense(64, activation='relu'),\n",
    "    tf.keras.layers.Dense(64, activation='relu'),\n",
    "    tf.keras.layers.Dense(1, activation='sigmoid')\n",
    "])\n",
    "\n",
    "model.compile(\n",
    "    loss=tf.keras.losses.binary_crossentropy,\n",
    "    optimizer=tf.keras.optimizers.Adam(),\n",
    "    metrics=[tf.keras.metrics.BinaryAccuracy(name='accuracy')]\n",
    ")\n",
    "\n",
    "history = model.fit(\n",
    "    X_train_scaled, \n",
    "    y_train, \n",
    "    epochs=1000,\n",
    "    validation_data=(X_test_scaled, y_test),\n",
    "    callbacks=[cb_checkpoint, cb_reducelr, cb_earlystop, cb_csvlogger]\n",
    ")"
   ]
  },
  {
   "cell_type": "markdown",
   "id": "98ea578c-ef61-44eb-a243-e4f5092a2e20",
   "metadata": {},
   "source": [
    "<br>\n",
    "\n",
    "## Final evaluation\n",
    "- You can now load the best model - it will be the one with the highest epoch number"
   ]
  },
  {
   "cell_type": "code",
   "execution_count": null,
   "id": "970d3a38-1915-457f-b9bb-e683aa4782d7",
   "metadata": {},
   "outputs": [],
   "source": [
    "best_model = tf.keras.models.load_model('checkpoints/model-25-0.80.hdf5')"
   ]
  },
  {
   "cell_type": "markdown",
   "id": "d946ea80-32c5-4a0d-9ab9-195461f77167",
   "metadata": {},
   "source": [
    "- Save yourself some time by calling `predict_classes()` instead of `predict()`\n",
    "- It assigns the classes automatically - you don't have to calculate them from probabilities"
   ]
  },
  {
   "cell_type": "code",
   "execution_count": null,
   "id": "2e1d1c69-33ef-4749-b3c8-6ede188a1f56",
   "metadata": {},
   "outputs": [],
   "source": [
    "best_model_preds = np.ravel(best_model.predict_classes(X_test_scaled))\n",
    "best_model_preds"
   ]
  },
  {
   "cell_type": "markdown",
   "id": "bc6d6581-8b03-4e7b-b591-dd9444d6a3b1",
   "metadata": {},
   "source": [
    "- Evaluate as you normally would"
   ]
  },
  {
   "cell_type": "code",
   "execution_count": null,
   "id": "30bacbff-f634-43af-b79c-171559aca9d7",
   "metadata": {},
   "outputs": [],
   "source": [
    "from sklearn.metrics import accuracy_score\n",
    "\n",
    "print(accuracy_score(y_test, best_model_preds))"
   ]
  }
 ],
 "metadata": {
  "kernelspec": {
   "display_name": "Python 3 (ipykernel)",
   "language": "python",
   "name": "python3"
  },
  "language_info": {
   "codemirror_mode": {
    "name": "ipython",
    "version": 3
   },
   "file_extension": ".py",
   "mimetype": "text/x-python",
   "name": "python",
   "nbconvert_exporter": "python",
   "pygments_lexer": "ipython3",
   "version": "3.10.5"
  }
 },
 "nbformat": 4,
 "nbformat_minor": 5
}
