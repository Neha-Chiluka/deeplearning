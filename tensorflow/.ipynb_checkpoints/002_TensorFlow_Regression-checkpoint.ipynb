{
 "cells": [
  {
   "cell_type": "markdown",
   "id": "2dfbb399-e769-4beb-be81-abe186c42a7e",
   "metadata": {},
   "source": [
    "# Dataset import and exploration\n",
    "- https://www.kaggle.com/shree1992/housedata"
   ]
  },
  {
   "cell_type": "code",
   "execution_count": null,
   "id": "af7f9a52-f63d-46a6-988d-b29d83222d09",
   "metadata": {},
   "outputs": [],
   "source": [
    "import numpy as np\n",
    "import pandas as pd\n",
    "\n",
    "df = pd.read_csv('data/data.csv')\n",
    "df.sample(5)"
   ]
  },
  {
   "cell_type": "code",
   "execution_count": null,
   "id": "a093fa5d-f21c-4597-8001-ae3fa3efe89a",
   "metadata": {},
   "outputs": [],
   "source": [
    "df.shape"
   ]
  },
  {
   "cell_type": "code",
   "execution_count": null,
   "id": "45aadd05-7a37-4d95-a062-585385f5fdc1",
   "metadata": {},
   "outputs": [],
   "source": [
    "df.isnull().sum()"
   ]
  },
  {
   "cell_type": "markdown",
   "id": "268d62a8-742a-44a3-88c1-0f18c79bb953",
   "metadata": {},
   "source": [
    "<br>\n",
    "\n",
    "# Drop columns we won't need"
   ]
  },
  {
   "cell_type": "code",
   "execution_count": null,
   "id": "739f4577-9c88-408f-8158-b1f3dd8d51f7",
   "metadata": {},
   "outputs": [],
   "source": [
    "to_drop = ['date', 'street', 'statezip', 'country']\n",
    "df = df.drop(to_drop, axis=1)\n",
    "df.head()"
   ]
  },
  {
   "cell_type": "markdown",
   "id": "848250cf-d2aa-4756-aca3-2cddef481626",
   "metadata": {},
   "source": [
    "<br>\n",
    "\n",
    "# Feature engineering"
   ]
  },
  {
   "cell_type": "markdown",
   "id": "f205f9bf-cde6-4dd7-b5ba-fc63b0c77659",
   "metadata": {},
   "source": [
    "- Houses that weren't renovated have `yr_renovated = 0`\n",
    "- Here's how to get the first renovation year"
   ]
  },
  {
   "cell_type": "code",
   "execution_count": null,
   "id": "cfa72430-9301-4234-92be-fa819b191215",
   "metadata": {},
   "outputs": [],
   "source": [
    "df[df['yr_renovated'] != 0]['yr_renovated'].min()"
   ]
  },
  {
   "cell_type": "markdown",
   "id": "82a990ad-8775-402b-8697-bda2f5f6ca54",
   "metadata": {},
   "source": [
    "- Let's create a couple of features:\n",
    "    - House age \n",
    "    - Was the house renovated?\n",
    "    - Was the renovation recent? (10 years or less)\n",
    "    - Was the renovation not that recent (more than 10 years but less than 30)\n",
    "- We'll then drop the original features"
   ]
  },
  {
   "cell_type": "code",
   "execution_count": null,
   "id": "1efc0b03-d54f-4205-a187-877bcd5946bf",
   "metadata": {},
   "outputs": [],
   "source": [
    "# How old is the house?\n",
    "df['house_age'] = [2021 - yr_built for yr_built in df['yr_built']]\n",
    "\n",
    "# Was the house renovated and was the renovation recent?\n",
    "df['was_renovated'] = [1 if yr_renovated != 0 else 0 for yr_renovated in df['yr_renovated']]\n",
    "df['was_renovated_10_yrs'] = [1 if (2021 - yr_renovated) <= 10 else 0 for yr_renovated in df['yr_renovated']]\n",
    "df['was_renovated_30_yrs'] = [1 if 10 < (2021 - yr_renovated) <= 30 else 0 for yr_renovated in df['yr_renovated']]\n",
    "\n",
    "# Drop original columns\n",
    "df = df.drop(['yr_built', 'yr_renovated'], axis=1)\n",
    "df.head()"
   ]
  },
  {
   "cell_type": "markdown",
   "id": "cca751b0-1644-4895-a0d2-3ff011f6de7e",
   "metadata": {},
   "source": [
    "- A lot of City options"
   ]
  },
  {
   "cell_type": "code",
   "execution_count": null,
   "id": "ba7f935b-aeed-4dac-922e-2696340b0b25",
   "metadata": {},
   "outputs": [],
   "source": [
    "df['city'].value_counts()"
   ]
  },
  {
   "cell_type": "markdown",
   "id": "e1b6280e-b122-4f02-9570-d1a59033db99",
   "metadata": {},
   "source": [
    "- Let's declare a function that will get rid of all city values that don't occur often\n",
    "- The original value will be replaced with 'Rare':"
   ]
  },
  {
   "cell_type": "code",
   "execution_count": null,
   "id": "46290985-09fe-4f68-9122-8d01048f3d50",
   "metadata": {},
   "outputs": [],
   "source": [
    "def remap_location(data: pd.DataFrame, location: str, threshold: int = 50) -> str:\n",
    "    if len(data[data['city'] == location]) < threshold:\n",
    "        return 'Rare'\n",
    "    return location"
   ]
  },
  {
   "cell_type": "markdown",
   "id": "c72b1685-9273-43d1-947b-99bfadc5e807",
   "metadata": {},
   "source": [
    "- Test:"
   ]
  },
  {
   "cell_type": "code",
   "execution_count": null,
   "id": "a4113ec6-4178-491a-aeb5-a2a1f6a54cf2",
   "metadata": {},
   "outputs": [],
   "source": [
    "remap_location(data=df, location='Seattle')"
   ]
  },
  {
   "cell_type": "code",
   "execution_count": null,
   "id": "3037556f-3312-4ce3-a01e-6f7bdff97661",
   "metadata": {},
   "outputs": [],
   "source": [
    "remap_location(data=df, location='Fall City')"
   ]
  },
  {
   "cell_type": "code",
   "execution_count": null,
   "id": "3b1d61cd-6eca-444d-84ae-45dc22e55ee8",
   "metadata": {},
   "outputs": [],
   "source": [
    "df['city'] = df['city'].apply(lambda x: remap_location(data=df, location=x))\n",
    "df.sample(10)"
   ]
  },
  {
   "cell_type": "markdown",
   "id": "d103cc30-f1f3-4d99-8175-d8822f3eaf33",
   "metadata": {},
   "source": [
    "<br>\n",
    "\n",
    "# Target variable visualization"
   ]
  },
  {
   "cell_type": "code",
   "execution_count": null,
   "id": "e6138a97-0897-4c54-83ee-c6c100c59594",
   "metadata": {},
   "outputs": [],
   "source": [
    "import matplotlib.pyplot as plt\n",
    "from matplotlib import rcParams\n",
    "\n",
    "rcParams['figure.figsize'] = (16, 6)\n",
    "rcParams['axes.spines.top'] = False\n",
    "rcParams['axes.spines.right'] = False"
   ]
  },
  {
   "cell_type": "code",
   "execution_count": null,
   "id": "1dc45b42-080f-4ef8-8f65-3f2c54616580",
   "metadata": {},
   "outputs": [],
   "source": [
    "plt.hist(df['price'], bins=100);"
   ]
  },
  {
   "cell_type": "markdown",
   "id": "d4ea3eee-a230-4596-bb4f-e0f1e01f0a33",
   "metadata": {},
   "source": [
    "- The distribution is highly skewed, so let's calculate Z-scores and remove outliers (assume the distirbution is otherwise normal)"
   ]
  },
  {
   "cell_type": "code",
   "execution_count": null,
   "id": "408f33cc-7caa-44cf-b270-34362e40d9f5",
   "metadata": {},
   "outputs": [],
   "source": [
    "from scipy import stats\n",
    "\n",
    "df['price_z'] = np.abs(stats.zscore(df['price']))\n",
    "df.head()"
   ]
  },
  {
   "cell_type": "code",
   "execution_count": null,
   "id": "eb2aa82a-bf2a-4a3d-80dd-778a6776738c",
   "metadata": {},
   "outputs": [],
   "source": [
    "df = df[df['price_z'] <= 3]\n",
    "df.shape"
   ]
  },
  {
   "cell_type": "code",
   "execution_count": null,
   "id": "aeccf141-f20f-48c7-ac1f-5df698e2899f",
   "metadata": {},
   "outputs": [],
   "source": [
    "plt.hist(df['price'], bins=100);"
   ]
  },
  {
   "cell_type": "markdown",
   "id": "07657d94-c388-4556-8751-f7e332fe04bc",
   "metadata": {},
   "source": [
    "- Still a bit of skew present\n",
    "- There seem to be houses selling for $0\n",
    "    - Let's remove them:"
   ]
  },
  {
   "cell_type": "code",
   "execution_count": null,
   "id": "a9aca5ad-e387-4db7-bdec-be0786c45e9e",
   "metadata": {},
   "outputs": [],
   "source": [
    "df[df['price'] == 0]"
   ]
  },
  {
   "cell_type": "code",
   "execution_count": null,
   "id": "9b434404-c7a7-4194-b8b7-4466121f8a44",
   "metadata": {},
   "outputs": [],
   "source": [
    "df = df[df['price'] != 0]\n",
    "\n",
    "plt.hist(df['price'], bins=100);"
   ]
  },
  {
   "cell_type": "code",
   "execution_count": null,
   "id": "8e199696-78f4-4dfa-bc71-18309574194b",
   "metadata": {},
   "outputs": [],
   "source": [
    "df = df.drop('price_z', axis=1)"
   ]
  },
  {
   "cell_type": "code",
   "execution_count": null,
   "id": "1880b61f-afff-4b6f-a8fb-7e4a704caec7",
   "metadata": {},
   "outputs": [],
   "source": [
    "df.head()"
   ]
  },
  {
   "cell_type": "markdown",
   "id": "73c279c6-1989-4b50-9127-24690ae1817e",
   "metadata": {},
   "source": [
    "<br>\n",
    "\n",
    "# Data preparation for ML"
   ]
  },
  {
   "cell_type": "markdown",
   "id": "0143eb6b-90d3-4c44-8be9-ca42a47dea9c",
   "metadata": {},
   "source": [
    "- We'll MinMaxScale the numerical features and one-hot encode the categorical ones\n",
    "- The features `waterfront`, `was_renovated`, `was_renovated_10_yrs` and `was_renovated_30_yrs` are ignored, since they're already in (0, 1) format"
   ]
  },
  {
   "cell_type": "code",
   "execution_count": null,
   "id": "9c36e009-72c6-4e2b-bb9a-8ec9e232f279",
   "metadata": {},
   "outputs": [],
   "source": [
    "from sklearn.compose import make_column_transformer\n",
    "from sklearn.preprocessing import MinMaxScaler, OneHotEncoder\n",
    "\n",
    "transformer = make_column_transformer(\n",
    "    (MinMaxScaler(), ['sqft_living', 'sqft_lot', 'sqft_above', 'sqft_basement', 'house_age']),\n",
    "    (OneHotEncoder(handle_unknown='ignore'), ['bedrooms', 'bathrooms', 'floors', 'view', 'condition'])\n",
    ")"
   ]
  },
  {
   "cell_type": "markdown",
   "id": "cdfef66b-4648-4a52-bd41-71bdefd53b7a",
   "metadata": {},
   "source": [
    "- Train/test split - 80:20:"
   ]
  },
  {
   "cell_type": "code",
   "execution_count": null,
   "id": "b07949f4-fa83-44dd-9e91-0af8e92de9a8",
   "metadata": {},
   "outputs": [],
   "source": [
    "from sklearn.model_selection import train_test_split\n",
    "\n",
    "X = df.drop('price', axis=1)\n",
    "y = df['price']\n",
    "\n",
    "X_train, X_test, y_train, y_test = train_test_split(X, y, test_size=0.2, random_state=42)\n",
    "X_train.shape, X_test.shape"
   ]
  },
  {
   "cell_type": "markdown",
   "id": "f5864385-3d93-4a62-b1e7-5ecb00a66d08",
   "metadata": {},
   "source": [
    "- Let's apply the transformations:"
   ]
  },
  {
   "cell_type": "code",
   "execution_count": null,
   "id": "915e6118-d478-427c-9779-0cdf4de92267",
   "metadata": {},
   "outputs": [],
   "source": [
    "# Fit on the train set\n",
    "transformer.fit(X_train)\n",
    "\n",
    "# Apply the transformation\n",
    "X_train = transformer.transform(X_train)\n",
    "X_test = transformer.transform(X_test)"
   ]
  },
  {
   "cell_type": "code",
   "execution_count": null,
   "id": "8bc502f0-281c-44aa-a73d-8dd9ff858e91",
   "metadata": {},
   "outputs": [],
   "source": [
    "X_train.shape, X_test.shape"
   ]
  },
  {
   "cell_type": "markdown",
   "id": "c46b787f-941c-4383-9ae1-d4ebc7fa9a75",
   "metadata": {},
   "source": [
    "- Sparse array format:"
   ]
  },
  {
   "cell_type": "code",
   "execution_count": null,
   "id": "e1e01b02-f934-49e9-a70d-954cd961b22b",
   "metadata": {},
   "outputs": [],
   "source": [
    "X_train"
   ]
  },
  {
   "cell_type": "markdown",
   "id": "75439aab-ebe0-4fa4-837c-ac130cbbd618",
   "metadata": {},
   "source": [
    "- Convert to array:"
   ]
  },
  {
   "cell_type": "code",
   "execution_count": null,
   "id": "2334ae61-8909-41b5-816e-f2882e266681",
   "metadata": {},
   "outputs": [],
   "source": [
    "X_train.toarray()"
   ]
  },
  {
   "cell_type": "code",
   "execution_count": null,
   "id": "adfcaaf1-2c45-43fb-a365-8e32638b60b5",
   "metadata": {},
   "outputs": [],
   "source": [
    "X_train = X_train.toarray()\n",
    "X_test = X_test.toarray()"
   ]
  },
  {
   "cell_type": "markdown",
   "id": "e5d449b0-ddac-4d48-8a60-9bad6870b82f",
   "metadata": {},
   "source": [
    "<br>\n",
    "\n",
    "# Model training"
   ]
  },
  {
   "cell_type": "code",
   "execution_count": null,
   "id": "14816f3a-dc9a-4d4c-89c5-b295bb51d1e2",
   "metadata": {},
   "outputs": [],
   "source": [
    "import tensorflow as tf\n",
    "from tensorflow.keras import Sequential\n",
    "from tensorflow.keras.layers import Dense\n",
    "from tensorflow.keras.optimizers import Adam\n",
    "from tensorflow.keras import backend as K"
   ]
  },
  {
   "cell_type": "markdown",
   "id": "1ed843a7-7ed3-4b6d-941c-66753a200c3a",
   "metadata": {},
   "source": [
    "- RMSE is the best metric, as the error is displayed in the same units the target variable is in"
   ]
  },
  {
   "cell_type": "code",
   "execution_count": null,
   "id": "2f71d093-79cb-4bbe-9a4f-bbdbf027c622",
   "metadata": {},
   "outputs": [],
   "source": [
    "def rmse(y_true, y_pred):\n",
    "    return K.sqrt(K.mean(K.square(y_pred - y_true)))"
   ]
  },
  {
   "cell_type": "markdown",
   "id": "f9d47990-1a39-494a-968f-17f2627fea09",
   "metadata": {},
   "source": [
    "- Really simple model:"
   ]
  },
  {
   "cell_type": "code",
   "execution_count": null,
   "id": "5c0ad1ce-ec15-4fc1-ac14-9ac49ea0a165",
   "metadata": {},
   "outputs": [],
   "source": [
    "tf.random.set_seed(42)\n",
    "\n",
    "model = Sequential([\n",
    "    Dense(256, activation='relu'),\n",
    "    Dense(256, activation='relu'),\n",
    "    Dense(128, activation='relu'),\n",
    "    Dense(1)\n",
    "])\n",
    "\n",
    "model.compile(\n",
    "    loss=rmse,\n",
    "    optimizer=Adam(),\n",
    "    metrics=[rmse]\n",
    ")\n",
    "\n",
    "model.fit(X_train, y_train, epochs=100)"
   ]
  },
  {
   "cell_type": "markdown",
   "id": "4b0c47b0-4e10-4d8e-bf16-34597ac28b72",
   "metadata": {},
   "source": [
    "<br>\n",
    "\n",
    "- Predict on the test set:"
   ]
  },
  {
   "cell_type": "code",
   "execution_count": null,
   "id": "c0f54129-a55f-4980-9d2b-58b093942402",
   "metadata": {},
   "outputs": [],
   "source": [
    "predictions = model.predict(X_test)"
   ]
  },
  {
   "cell_type": "code",
   "execution_count": null,
   "id": "55f070b2-1cc4-4872-a922-9e10b2926f7e",
   "metadata": {},
   "outputs": [],
   "source": [
    "predictions[:5]"
   ]
  },
  {
   "cell_type": "markdown",
   "id": "97e28ee9-f001-45cb-b946-10f0255787bb",
   "metadata": {},
   "source": [
    "- Convert to a 1D array before visualization:"
   ]
  },
  {
   "cell_type": "code",
   "execution_count": null,
   "id": "66d92888-7312-4c34-9b47-e20dd3feb039",
   "metadata": {},
   "outputs": [],
   "source": [
    "predictions = np.ravel(predictions)\n",
    "predictions[:5]"
   ]
  },
  {
   "cell_type": "code",
   "execution_count": null,
   "id": "a5b6ef2f-f357-4774-bd06-921805d295bd",
   "metadata": {},
   "outputs": [],
   "source": [
    "rmse(y_test, predictions).numpy()"
   ]
  }
 ],
 "metadata": {
  "kernelspec": {
   "display_name": "Python 3 (ipykernel)",
   "language": "python",
   "name": "python3"
  },
  "language_info": {
   "codemirror_mode": {
    "name": "ipython",
    "version": 3
   },
   "file_extension": ".py",
   "mimetype": "text/x-python",
   "name": "python",
   "nbconvert_exporter": "python",
   "pygments_lexer": "ipython3",
   "version": "3.10.5"
  }
 },
 "nbformat": 4,
 "nbformat_minor": 5
}
