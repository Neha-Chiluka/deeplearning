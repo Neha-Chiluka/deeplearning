{
 "cells": [
  {
   "cell_type": "markdown",
   "id": "3c28503e-18ad-49ba-8bb3-d019016dbf16",
   "metadata": {},
   "source": [
    "# 001 - TensorFlow Installation Test\n",
    "***\n",
    "\n",
    "## Imports"
   ]
  },
  {
   "cell_type": "code",
   "execution_count": null,
   "id": "f95104a3-71c6-49a1-bb2d-8af9c1a233fb",
   "metadata": {},
   "outputs": [],
   "source": [
    "import tensorflow as tf\n",
    "tf.__version__"
   ]
  },
  {
   "cell_type": "markdown",
   "id": "c14914e3-f00d-4a06-8dfb-ce9dfd0ebf31",
   "metadata": {},
   "source": [
    "<br>\n",
    "\n",
    "## Available devices for training"
   ]
  },
  {
   "cell_type": "code",
   "execution_count": null,
   "id": "32e6b04e-9af3-4841-9f08-a203d6bdd0c1",
   "metadata": {},
   "outputs": [],
   "source": [
    "tf.config.list_physical_devices()"
   ]
  },
  {
   "cell_type": "markdown",
   "id": "847e8e9d-2ba1-4fa1-a6e1-1d053d275982",
   "metadata": {},
   "source": [
    "<br>\n",
    "\n",
    "## Dummy dataset"
   ]
  },
  {
   "cell_type": "code",
   "execution_count": null,
   "id": "9f05f334-09b5-48f1-92dc-514c2c893ec2",
   "metadata": {},
   "outputs": [],
   "source": [
    "import numpy as np\n",
    "\n",
    "X = np.arange(1, 101, step=0.1)\n",
    "y = [x**2 for x in X]\n",
    "\n",
    "X = tf.cast(tf.constant(X), dtype=tf.float32)\n",
    "y = tf.cast(tf.constant(y), dtype=tf.float32)"
   ]
  },
  {
   "cell_type": "markdown",
   "id": "c78722a1-8cb9-41b8-b114-7cc90af4e4a3",
   "metadata": {},
   "source": [
    "<br>\n",
    "\n",
    "## Model and training"
   ]
  },
  {
   "cell_type": "code",
   "execution_count": null,
   "id": "0324cb21-9d45-4342-93d8-b589afe08a9e",
   "metadata": {},
   "outputs": [],
   "source": [
    "model = tf.keras.Sequential([\n",
    "    tf.keras.layers.Dense(64, activation='relu'),\n",
    "    tf.keras.layers.Dense(64, activation='relu'),\n",
    "    tf.keras.layers.Dense(1)\n",
    "])\n",
    "\n",
    "model.compile(\n",
    "    loss=tf.keras.losses.mean_absolute_error,\n",
    "    optimizer=tf.keras.optimizers.Adam(learning_rate=0.1),\n",
    "    metrics=['mean_absolute_error']\n",
    ")\n",
    "\n",
    "model.fit(X, y, epochs=100)"
   ]
  },
  {
   "cell_type": "markdown",
   "id": "c5b54992-1059-4c68-889b-0bad1a79dc5d",
   "metadata": {},
   "source": [
    "<br>\n",
    "\n",
    "## Evaluation"
   ]
  },
  {
   "cell_type": "code",
   "execution_count": null,
   "id": "33bcd457-9d52-42b2-a3cf-0f024d53d0e5",
   "metadata": {},
   "outputs": [],
   "source": [
    "model.predict([10, 20, 30])"
   ]
  }
 ],
 "metadata": {
  "kernelspec": {
   "display_name": "Python 3 (ipykernel)",
   "language": "python",
   "name": "python3"
  },
  "language_info": {
   "codemirror_mode": {
    "name": "ipython",
    "version": 3
   },
   "file_extension": ".py",
   "mimetype": "text/x-python",
   "name": "python",
   "nbconvert_exporter": "python",
   "pygments_lexer": "ipython3",
   "version": "3.10.5"
  }
 },
 "nbformat": 4,
 "nbformat_minor": 5
}
