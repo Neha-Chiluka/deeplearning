{
 "cells": [
  {
   "cell_type": "markdown",
   "id": "738f3891-990d-4cb2-8201-9149d4ceabb9",
   "metadata": {},
   "source": [
    "# CNN 5 - Pooling from scratch\n",
    "\n",
    "- Dataset:\n",
    "    - https://www.kaggle.com/shaunthesheep/microsoft-catsvsdogs-dataset\n",
    "- The dataset isn't deep-learning-compatible by default, here's how to preprocess it:\n",
    "    - Video: https://www.youtube.com/watch?v=O7EV2BjOXus&ab_channel=BetterDataScience\n",
    "    - Article: https://towardsdatascience.com/tensorflow-for-image-classification-top-3-prerequisites-for-deep-learning-projects-34c549c89e42\n",
    "    - Code: https://github.com/better-data-science/TensorFlow/blob/main/008_CNN_001_Working_With_Image_Data.ipynb\n",
    "\n",
    "- Today we'll implement pooling from scratch in pure Python and Numpy\n",
    "- Pooling boils down to subseting 2D array into smaller chunks, which should be easy to implement\n",
    "- You'll need only Numpy for now:"
   ]
  },
  {
   "cell_type": "code",
   "execution_count": null,
   "id": "5e4972f8-2876-4a48-a395-efdd939f5173",
   "metadata": {},
   "outputs": [],
   "source": [
    "import numpy as np"
   ]
  },
  {
   "cell_type": "markdown",
   "id": "34e635be-4671-40de-a319-287ced36ca4f",
   "metadata": {},
   "source": [
    "- Let's declare a simple and small 2D array that will represent an output from a convolutional layer:"
   ]
  },
  {
   "cell_type": "code",
   "execution_count": null,
   "id": "44342176-c301-4b88-ad2e-2b2699fa9a0b",
   "metadata": {},
   "outputs": [],
   "source": [
    "conv_output = np.array([\n",
    "    [10, 12,  8,  7],\n",
    "    [ 4, 11,  5,  9],\n",
    "    [18, 13,  7,  7],\n",
    "    [ 3, 15,  2,  2]\n",
    "])\n",
    "conv_output"
   ]
  },
  {
   "cell_type": "markdown",
   "id": "dab8f40d-aa39-4556-a4de-473887d9395c",
   "metadata": {},
   "source": [
    "- To start with pooling, you'll have to select values for two hyperparameters:\n",
    "    - `pool_size` - A size of the single region that slides over the image\n",
    "    - `stride` - The number of pixels you want the region to move as it goes over the image\n",
    "    \n",
    "- Common sizes are 2x2 for the pool size, and 2 for the stride\n",
    "- Choosing these value will reduce the convolutional output size by half!\n",
    "- Pool size of 2x2 and a stride of 1 will reduce the image size by a single pixel, which doesn't make much sense\n",
    "\n",
    "<br>\n",
    "\n",
    "## Extract pools from a 2D array\n",
    "- Let's first take care of extracting individual pools\n",
    "    - Matrices of shape (pool size, pool size)\n",
    "- Pool size = 2\n",
    "- Stride = 2"
   ]
  },
  {
   "cell_type": "code",
   "execution_count": null,
   "id": "8c4ea5f5-7d39-4c9c-931e-8e1bddaf431f",
   "metadata": {},
   "outputs": [],
   "source": [
    "# Define paramters\n",
    "pool_size = 2\n",
    "stride = 2\n",
    "\n",
    "# For all rows with the step size of 2 (row 0 and row 2)\n",
    "for i in np.arange(conv_output.shape[0], step=stride):\n",
    "    # For all columns with the step size of 2 (column 0 and column 2)\n",
    "    for j in np.arange(conv_output.shape[0], step=stride):\n",
    "        # Get a single pool\n",
    "        # First  - Image[0:2, 0:2] -> [[10, 12], [ 4, 11]]\n",
    "        # Second - Image[0:2, 2:4] -> [[ 8,  7], [ 5,  9]]\n",
    "        # Third  - Image[2:4, 0:2] -> [[18, 13], [ 3, 15]]\n",
    "        # Fourth - Image[2:4, 2:4] -> [[ 7,  7], [ 2,  2]]\n",
    "        mat = conv_output[i:i+pool_size, j:j+pool_size]\n",
    "        \n",
    "        # Ensure that the shape of the matrix is 2x2 (pool size)\n",
    "        if mat.shape == (pool_size, pool_size):\n",
    "            # Print it\n",
    "            print(mat)\n",
    "    # Print a new line when the code reaches the end of a single row block\n",
    "    print()"
   ]
  },
  {
   "cell_type": "markdown",
   "id": "158b918d-870c-45d5-936b-7d4eac47386e",
   "metadata": {},
   "source": [
    "- Simple, right? \n",
    "- Let's see what happens if we change the stride value to 1\n",
    "- We'll keep everything else as is:"
   ]
  },
  {
   "cell_type": "code",
   "execution_count": null,
   "id": "c4b68559-834d-44e3-a01c-08dc533b0d37",
   "metadata": {},
   "outputs": [],
   "source": [
    "pool_size = 2\n",
    "stride = 1\n",
    "\n",
    "for i in np.arange(conv_output.shape[0], step=stride):\n",
    "    for j in np.arange(conv_output.shape[0], step=stride):\n",
    "        mat = conv_output[i:i+pool_size, j:j+pool_size]\n",
    "        if mat.shape == (pool_size, pool_size):\n",
    "            print(mat)\n",
    "    print()"
   ]
  },
  {
   "cell_type": "markdown",
   "id": "fc047102-bf72-456a-a956-81995295cd59",
   "metadata": {},
   "source": [
    "- We now get much more pools, which isn't what we want\n",
    "- You can't go wrong by starting with the pool size of 2 and stride of 2\n",
    "- Let's now put all of this in a single function:"
   ]
  },
  {
   "cell_type": "code",
   "execution_count": null,
   "id": "2f4b39d4-e542-4890-bbd8-10c0b9e1db54",
   "metadata": {},
   "outputs": [],
   "source": [
    "def get_pools(img: np.array, pool_size: int, stride: int) -> np.array:\n",
    "    # To store individual pools\n",
    "    pools = []\n",
    "    \n",
    "    # Iterate over all row blocks (single block has `stride` rows)\n",
    "    for i in np.arange(img.shape[0], step=stride):\n",
    "        # Iterate over all column blocks (single block has `stride` columns)\n",
    "        for j in np.arange(img.shape[0], step=stride):\n",
    "            \n",
    "            # Extract the current pool\n",
    "            mat = img[i:i+pool_size, j:j+pool_size]\n",
    "            \n",
    "            # Make sure it's rectangular - has the shape identical to the pool size\n",
    "            if mat.shape == (pool_size, pool_size):\n",
    "                # Append to the list of pools\n",
    "                pools.append(mat)\n",
    "                \n",
    "    # Return all pools as a Numpy array\n",
    "    return np.array(pools)"
   ]
  },
  {
   "cell_type": "code",
   "execution_count": null,
   "id": "e306f72b-7696-4914-9c21-ee4f3a513e12",
   "metadata": {},
   "outputs": [],
   "source": [
    "test_pools = get_pools(img=conv_output, pool_size=2, stride=2)\n",
    "test_pools"
   ]
  },
  {
   "cell_type": "markdown",
   "id": "4ade4d2e-20d9-4861-a57a-6c977ad9d43e",
   "metadata": {},
   "source": [
    "<br>\n",
    "\n",
    "## MaxPooling from scratch\n",
    "- MaxPooling is the most common pooling type\n",
    "- Basically, it keeps only the largest value from a single pool\n",
    "- There are other types of pooling, such as AveragePooling\n",
    "    - It's used much less in practice\n",
    "    - To implement it, replace `np.max()` with `np.mean()`\n",
    "\n",
    "**MaxPooling logic**\n",
    "1. Get the total number of pools - length of the `pools` matrix (or `shape[0]`)\n",
    "2. Calculate target shape - image size after performing the pooling operation\n",
    "    - Calculted as: Square root of the number of pools casted as integer\n",
    "    - Why? We need a rectangular matrix\n",
    "    - If `num_pools` is 16, we need a 4x4 matrix (sqrt(16) = 4)\n",
    "3. Iterate over all pools and calculate the max - append the max a result list\n",
    "4. Return the result list as a Numpy array reshaped to the target shape"
   ]
  },
  {
   "cell_type": "code",
   "execution_count": null,
   "id": "419db88a-9d1e-4e13-bd0c-10525285bedf",
   "metadata": {},
   "outputs": [],
   "source": [
    "def max_pooling(pools: np.array) -> np.array:\n",
    "    # Total number of pools\n",
    "    num_pools = pools.shape[0]\n",
    "    # Shape of the matrix after pooling - Square root of the number of pools\n",
    "    # Cast it to int, as Numpy will return it as float\n",
    "    # For example -> np.sqrt(16) = 4.0 -> int(4.0) = 4\n",
    "    tgt_shape = (int(np.sqrt(num_pools)), int(np.sqrt(num_pools)))\n",
    "    # To store the max values\n",
    "    pooled = []\n",
    "    \n",
    "    # Iterate over all pools\n",
    "    for pool in pools:\n",
    "        # Append the max value only\n",
    "        pooled.append(np.max(pool))\n",
    "        \n",
    "    # Reshape to target shape\n",
    "    return np.array(pooled).reshape(tgt_shape)"
   ]
  },
  {
   "cell_type": "markdown",
   "id": "c246ac33-b369-4ed9-9b72-8829a2b41e43",
   "metadata": {},
   "source": [
    "- Let's test it out:"
   ]
  },
  {
   "cell_type": "code",
   "execution_count": null,
   "id": "7c00a16a-8a98-4b0a-8a2d-af120955d586",
   "metadata": {},
   "outputs": [],
   "source": [
    "max_pooling(pools=test_pools)"
   ]
  },
  {
   "cell_type": "markdown",
   "id": "53b8e90e-9493-4653-8d02-3f1d01cdfdbd",
   "metadata": {},
   "source": [
    "- Works like a charm! \n",
    "- Let's implement pooling on a real image next\n",
    "\n",
    "<br>\n",
    "\n",
    "## Implement pooling on a real image\n",
    "- Let's import PIL and Matplotlib to make working with images easier\n",
    "- We'll declare two helper functions for visualizing single image, and two images side by side:"
   ]
  },
  {
   "cell_type": "code",
   "execution_count": null,
   "id": "8dac5263-06c5-4f8a-a1a5-43e790ee9d68",
   "metadata": {},
   "outputs": [],
   "source": [
    "from PIL import Image, ImageOps\n",
    "import matplotlib.pyplot as plt\n",
    "\n",
    "def plot_image(img: np.array):\n",
    "    plt.figure(figsize=(6, 6))\n",
    "    plt.imshow(img, cmap='gray');\n",
    "    \n",
    "def plot_two_images(img1: np.array, img2: np.array):\n",
    "    _, ax = plt.subplots(1, 2, figsize=(12, 6))\n",
    "    ax[0].imshow(img1, cmap='gray')\n",
    "    ax[1].imshow(img2, cmap='gray');"
   ]
  },
  {
   "cell_type": "markdown",
   "id": "15ef4bf7-f773-4f5a-a668-5793d416a078",
   "metadata": {},
   "source": [
    "- Let's load a sample image from our dataset\n",
    "- We'll pretend it is an output from a convolutional layer\n",
    "    - It doesn't matter actually, pooling doesn't know we're faking it\n",
    "- To make calculations easier, we'll grayscale the image and resize it to 224x224\n",
    "    - That's a common practice with neural networks:"
   ]
  },
  {
   "cell_type": "code",
   "execution_count": null,
   "id": "e42aa128-8377-43b2-878f-e40603d684b9",
   "metadata": {},
   "outputs": [],
   "source": [
    "img = Image.open('cat.jpg')\n",
    "img = ImageOps.grayscale(img)\n",
    "img = img.resize(size=(224, 224))\n",
    "plot_image(img=img)"
   ]
  },
  {
   "cell_type": "markdown",
   "id": "1028d6d5-c1cb-4aa3-80cd-68ba176ea0cd",
   "metadata": {},
   "source": [
    "- Let's get the pools next\n",
    "- Remember to convert the image to a Numpy array\n",
    "- We'll stick with a pool size of 2 and stride of 2"
   ]
  },
  {
   "cell_type": "code",
   "execution_count": null,
   "id": "dfaa1acc-cee9-4373-8d54-e120500ce790",
   "metadata": {},
   "outputs": [],
   "source": [
    "cat_img_pools = get_pools(img=np.array(img), pool_size=2, stride=2)"
   ]
  },
  {
   "cell_type": "code",
   "execution_count": null,
   "id": "c1c8091c-91c8-42ba-97e8-ac6622eefd01",
   "metadata": {},
   "outputs": [],
   "source": [
    "cat_img_pools"
   ]
  },
  {
   "cell_type": "markdown",
   "id": "be670c27-1826-482a-9c41-c5d69c07e51d",
   "metadata": {},
   "source": [
    "- Let's see how many pools we have in total:"
   ]
  },
  {
   "cell_type": "code",
   "execution_count": null,
   "id": "c848b15d-57b4-4534-8d6c-840f76fb8bf2",
   "metadata": {},
   "outputs": [],
   "source": [
    "cat_img_pools.shape"
   ]
  },
  {
   "cell_type": "markdown",
   "id": "e06c2195-3856-447d-8bb4-b80648f23524",
   "metadata": {},
   "source": [
    "- So we have 12544 pools, each being a small 2x2 matrix\n",
    "- **Square root of 12544 is 112**, which means our image will be of size 112x112 pixels after the pooling operation\n",
    "- Let's do the pooling:"
   ]
  },
  {
   "cell_type": "code",
   "execution_count": null,
   "id": "5bbf3d19-fd0a-4dec-8ce8-6d8eab6cf539",
   "metadata": {},
   "outputs": [],
   "source": [
    "cat_max_pooled = max_pooling(pools=cat_img_pools)\n",
    "cat_max_pooled"
   ]
  },
  {
   "cell_type": "markdown",
   "id": "f7b5e77b-c803-41b5-aa0e-5ffff89dc83a",
   "metadata": {},
   "source": [
    "- Quickly verify the shape:"
   ]
  },
  {
   "cell_type": "code",
   "execution_count": null,
   "id": "b59da725-17b0-498d-af9e-a3dfb30562b2",
   "metadata": {},
   "outputs": [],
   "source": [
    "cat_max_pooled.shape"
   ]
  },
  {
   "cell_type": "markdown",
   "id": "5bdfd579-858a-403e-ab29-73c1dcd153b5",
   "metadata": {},
   "source": [
    "- Everything looks right, but let's also visualize the cat image before and after pooling\n",
    "- We shouldn't have any problems recognizing a cat:"
   ]
  },
  {
   "cell_type": "code",
   "execution_count": null,
   "id": "d93d6abd-6a3c-4ed3-a6ef-367f1e512044",
   "metadata": {},
   "outputs": [],
   "source": [
    "plot_two_images(img1=img, img2=cat_max_pooled)"
   ]
  },
  {
   "cell_type": "markdown",
   "id": "1cb9fd09-2e60-41d6-bb5a-327b1e0171ac",
   "metadata": {},
   "source": [
    "- **Note**: The image on the right is displayed in same figure size as the image on the left, even though it's smaller - check X and Y axis values\n",
    "- It's still a cat, so we can verify the pooling worked\n",
    "\n",
    "**How do we know if we did everything correctly?**\n",
    "- We can apply TensorFlow's pooling layer to the cat image and compare the matrices\n",
    "\n",
    "<br>\n",
    "\n",
    "## Verification - Pooling with TensorFlow\n",
    "- Let's import TensorFlow to verify we calculated everything correctly:"
   ]
  },
  {
   "cell_type": "code",
   "execution_count": null,
   "id": "de030f5d-34ed-4463-959c-988ec9a89380",
   "metadata": {},
   "outputs": [],
   "source": [
    "import tensorflow as tf"
   ]
  },
  {
   "cell_type": "markdown",
   "id": "73bbd942-f732-4a7d-bc92-9b5aa0950674",
   "metadata": {},
   "source": [
    "- We'll declare a Sequential model that has only a MaxPool2D layer\n",
    "- Note the parameters:\n",
    "    - Pool size = 2\n",
    "    - Strides = 2\n",
    "- Just as we had during the manual calculation"
   ]
  },
  {
   "cell_type": "code",
   "execution_count": null,
   "id": "97d05077-5a1e-4de0-88da-e0218886ac12",
   "metadata": {},
   "outputs": [],
   "source": [
    "model = tf.keras.Sequential([\n",
    "    tf.keras.layers.MaxPool2D(pool_size=2, strides=2)\n",
    "])"
   ]
  },
  {
   "cell_type": "markdown",
   "id": "693d25a3-499b-4102-b18d-4d2d264e79ed",
   "metadata": {},
   "source": [
    "- We don't have to train the model\n",
    "- Before passing in the image, we need to reshape it\n",
    "    - Batch size, width, height, number of color channels"
   ]
  },
  {
   "cell_type": "code",
   "execution_count": null,
   "id": "6dc412c6-9f6a-48bf-b7e7-c4022f128315",
   "metadata": {},
   "outputs": [],
   "source": [
    "cat_arr = np.array(img).reshape(1, 224, 224, 1)\n",
    "cat_arr.shape"
   ]
  },
  {
   "cell_type": "markdown",
   "id": "0150837c-e6e6-4f08-a8d3-e5fac777f296",
   "metadata": {},
   "source": [
    "- We can now use the `predict()` function to apply the pooling\n",
    "- It will return a 1x12x12x1 tensor, so we'll reshape it to 112x112:"
   ]
  },
  {
   "cell_type": "code",
   "execution_count": null,
   "id": "1348de54-08fa-4fbf-a2cc-d97e091f1191",
   "metadata": {},
   "outputs": [],
   "source": [
    "output = model.predict(cat_arr).reshape(112, 112)\n",
    "output"
   ]
  },
  {
   "cell_type": "markdown",
   "id": "b3f2c8a1-54cf-46bc-bdfe-67e971c0b511",
   "metadata": {},
   "source": [
    "- The matrix does look familiar\n",
    "- We can now use the `array_equal()` function from Numpy to test if our array equals to TensorFlow's \"prediction\":"
   ]
  },
  {
   "cell_type": "code",
   "execution_count": null,
   "id": "3fc38b48-7376-432d-9c9a-0a8a701d23eb",
   "metadata": {},
   "outputs": [],
   "source": [
    "np.array_equal(cat_max_pooled, output)"
   ]
  },
  {
   "cell_type": "markdown",
   "id": "e911f955-98f1-4997-ae8b-d88df6e91686",
   "metadata": {},
   "source": [
    "- And it does, which means we did everything correctly!\n",
    "- You now know how to implement convolutions and pooling from scratch\n",
    "- There's no need to ever do that, but it's good to know\n",
    "- The next notebook will cover building a more robust image classifier with TensorFlow"
   ]
  }
 ],
 "metadata": {
  "kernelspec": {
   "display_name": "Python 3 (ipykernel)",
   "language": "python",
   "name": "python3"
  },
  "language_info": {
   "codemirror_mode": {
    "name": "ipython",
    "version": 3
   },
   "file_extension": ".py",
   "mimetype": "text/x-python",
   "name": "python",
   "nbconvert_exporter": "python",
   "pygments_lexer": "ipython3",
   "version": "3.10.5"
  }
 },
 "nbformat": 4,
 "nbformat_minor": 5
}
