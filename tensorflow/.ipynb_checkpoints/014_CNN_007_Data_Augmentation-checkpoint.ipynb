{
 "cells": [
  {
   "cell_type": "markdown",
   "metadata": {},
   "source": [
    "# CNN 7 - Data Augmentation\n",
    "- Dataset:\n",
    "    - https://www.kaggle.com/shaunthesheep/microsoft-catsvsdogs-dataset\n",
    "- The dataset isn't deep-learning-compatible by default, here's how to preprocess it:\n",
    "    - Video: https://www.youtube.com/watch?v=O7EV2BjOXus&ab_channel=BetterDataScience\n",
    "    - Article: https://betterdatascience.com/top-3-prerequisites-for-deep-learning-projects\n",
    "    - Code: https://github.com/fenago/deeplearning/blob/main/tensorflow/008_CNN_001_Working_With_Image_Data.ipynb\n",
    "\n",
    "\n",
    "**What you should know by now:**\n",
    "- How to preprocess image data\n",
    "- How to load image data from a directory\n",
    "- What's a convolution, pooling, and a fully-connected layer\n",
    "- Categorical vs. binary classification"
   ]
  },
  {
   "cell_type": "markdown",
   "metadata": {},
   "source": [
    "- To start, let's get the library imports out of the way\n",
    "- We only need a few\n",
    "- The `plot_image()` function plots a single image from an array"
   ]
  },
  {
   "cell_type": "code",
   "execution_count": null,
   "metadata": {
    "id": "ZA0yGwIScvHl"
   },
   "outputs": [],
   "source": [
    "import numpy as np\n",
    "import tensorflow as tf\n",
    "from tensorflow.keras import layers\n",
    "import matplotlib.pyplot as plt\n",
    "from PIL import Image\n",
    "\n",
    "\n",
    "def plot_image(img: np.array):\n",
    "    plt.figure(figsize=(6, 6))\n",
    "    plt.imshow(img, cmap='gray');"
   ]
  },
  {
   "cell_type": "markdown",
   "metadata": {},
   "source": [
    "- Let's load a sample image:"
   ]
  },
  {
   "cell_type": "code",
   "execution_count": null,
   "metadata": {
    "colab": {
     "base_uri": "https://localhost:8080/",
     "height": 365
    },
    "id": "ygL4JwZFc1tC",
    "outputId": "d3aa8a7d-8f14-48bf-af24-d364530b1853"
   },
   "outputs": [],
   "source": [
    "img = Image.open('data/train/cat/1.jpg')\n",
    "img = np.array(img)\n",
    "plot_image(img=img)"
   ]
  },
  {
   "cell_type": "markdown",
   "metadata": {},
   "source": [
    "<br>\n",
    "\n",
    "## Data Augmentation with TensorFlow in Action\n",
    "- We can declare a model that *does* different things to an image\n",
    "- For example, the model below will resize the image to 224x224 and rescale the underlying matrix to a 0-1 range:"
   ]
  },
  {
   "cell_type": "code",
   "execution_count": null,
   "metadata": {
    "colab": {
     "base_uri": "https://localhost:8080/",
     "height": 377
    },
    "id": "jHt5A36Fc3y9",
    "outputId": "3f57c392-20ff-4fa4-c85d-13a38f4ce1b8"
   },
   "outputs": [],
   "source": [
    "resize_and_scale = tf.keras.Sequential([\n",
    "    layers.Resizing(224, 224),\n",
    "    layers.Rescaling(1./255)\n",
    "])\n",
    "\n",
    "res = resize_and_scale(img)\n",
    "plot_image(img=res)"
   ]
  },
  {
   "cell_type": "markdown",
   "metadata": {},
   "source": [
    "- You typically handle resizing inside the `flow_from_directory()` function, but you can also use it here\n",
    "- The more interesting transformations are random flips and rotations\n",
    "    - A `RandomFlip` will flip the image horizontally, vertically, or both, depending on the mode parameter\n",
    "    - A `RandomRotation` will rotate the image by some some factor (0.2 means 0.2 * 2PI)"
   ]
  },
  {
   "cell_type": "code",
   "execution_count": null,
   "metadata": {
    "colab": {
     "base_uri": "https://localhost:8080/",
     "height": 365
    },
    "id": "FFU8mtyMc5-h",
    "outputId": "a23b9637-ec6c-4788-a2f7-b61ea10a9a8d"
   },
   "outputs": [],
   "source": [
    "augmentation = tf.keras.Sequential([\n",
    "    layers.RandomFlip(mode='horizontal'),\n",
    "    layers.RandomRotation(factor=0.2)\n",
    "])\n",
    "\n",
    "res = augmentation(img)\n",
    "plot_image(img=res)"
   ]
  },
  {
   "cell_type": "markdown",
   "metadata": {},
   "source": [
    "- Let's extend it even more!\n",
    "    - A `RandomZoom` will zoom images - 0.2 means 20%\n",
    "    - A `RandomTranslation` shifts the image (height = vertically, width = horizontally) - 0.2 means 20%"
   ]
  },
  {
   "cell_type": "code",
   "execution_count": null,
   "metadata": {
    "colab": {
     "base_uri": "https://localhost:8080/",
     "height": 365
    },
    "id": "8765f6mxdnIV",
    "outputId": "c9f9e7c4-5132-439e-e773-97d6b790bbb0"
   },
   "outputs": [],
   "source": [
    "augmentation = tf.keras.Sequential([\n",
    "    layers.RandomFlip(mode='horizontal_and_vertical'),\n",
    "    layers.RandomRotation(factor=0.2),\n",
    "    layers.RandomZoom(height_factor=0.2, width_factor=0.2),\n",
    "    layers.RandomTranslation(height_factor=0.2, width_factor=0.2)\n",
    "])\n",
    "\n",
    "res = augmentation(img)\n",
    "plot_image(img=res)"
   ]
  },
  {
   "cell_type": "markdown",
   "metadata": {},
   "source": [
    "- To verify these transformations are indeed random, we can make a 3x3 plot showing results of 9 random transformations:"
   ]
  },
  {
   "cell_type": "code",
   "execution_count": null,
   "metadata": {
    "colab": {
     "base_uri": "https://localhost:8080/",
     "height": 568
    },
    "id": "2TrL8Z55dHod",
    "outputId": "3690caad-b2b5-4468-dfa5-16ea71ec82b3"
   },
   "outputs": [],
   "source": [
    "plt.figure(figsize=(10, 10))\n",
    "\n",
    "for i in range(9):\n",
    "    img_aug = augmentation(img)\n",
    "    ax = plt.subplot(3, 3, i + 1)\n",
    "    plt.imshow(img_aug)\n",
    "    plt.axis('off')"
   ]
  },
  {
   "cell_type": "markdown",
   "metadata": {},
   "source": [
    "- Some of them make sense, while others don't - but you can always classify the image as a cat\n",
    "- Next, let's see how to handle data augmentation with TensorFlow's `ImageDataGenerator`"
   ]
  },
  {
   "cell_type": "markdown",
   "metadata": {},
   "source": [
    "<br>\n",
    "\n",
    "## Data Augmentation with TensorFlow's ImageDataGenerator\n",
    "- You now know what individual transformations do to an image, but it isn't common to write data augmentation as a separate sequential model\n",
    "- It's more common to apply the transformations when loading the data - with TensorFlow's `ImageDataGenerator`\n",
    "- **Keep in mind** - You should only augment training data!"
   ]
  },
  {
   "cell_type": "code",
   "execution_count": null,
   "metadata": {
    "id": "sI4oSRaQdU8V"
   },
   "outputs": [],
   "source": [
    "train_datagen = tf.keras.preprocessing.image.ImageDataGenerator(\n",
    "    rescale=1/255.0,\n",
    "    rotation_range=20,\n",
    "    width_shift_range=0.2,\n",
    "    height_shift_range=0.2,\n",
    "    shear_range=0.2,\n",
    "    zoom_range=0.2,\n",
    "    horizontal_flip=True,\n",
    "    fill_mode='nearest'\n",
    ")\n",
    "\n",
    "valid_datagen = tf.keras.preprocessing.image.ImageDataGenerator(\n",
    "    rescale=1/255.0\n",
    ")"
   ]
  },
  {
   "cell_type": "markdown",
   "metadata": {},
   "source": [
    "- We'll now visualize a single batch of images to see if transformations worked\n",
    "- Load in the test set:"
   ]
  },
  {
   "cell_type": "code",
   "execution_count": null,
   "metadata": {
    "id": "ZzEdVrgYe-23"
   },
   "outputs": [],
   "source": [
    "train_data = train_datagen.flow_from_directory(\n",
    "    directory='data/train/',\n",
    "    target_size=(224, 224),\n",
    "    class_mode='categorical',\n",
    "    batch_size=64,\n",
    "    seed=42\n",
    ")"
   ]
  },
  {
   "cell_type": "markdown",
   "metadata": {},
   "source": [
    "- Extract the first batch:"
   ]
  },
  {
   "cell_type": "code",
   "execution_count": null,
   "metadata": {
    "id": "aeNsHzDufBbN"
   },
   "outputs": [],
   "source": [
    "first_batch = train_data.next()"
   ]
  },
  {
   "cell_type": "code",
   "execution_count": null,
   "metadata": {
    "id": "--XWq-khfBzs"
   },
   "outputs": [],
   "source": [
    "first_batch[0].shape, first_batch[1].shape"
   ]
  },
  {
   "cell_type": "markdown",
   "metadata": {},
   "source": [
    "- A function to visualize 64 images at once:"
   ]
  },
  {
   "cell_type": "code",
   "execution_count": null,
   "metadata": {
    "id": "rktZlQyTe8B4"
   },
   "outputs": [],
   "source": [
    "def visualize_batch(batch: tf.keras.preprocessing.image.DirectoryIterator):\n",
    "    n = 64\n",
    "    num_row, num_col = 8, 8\n",
    "    fig, axes = plt.subplots(num_row, num_col, figsize=(3 * num_col, 3 * num_row))\n",
    "    \n",
    "    for i in range(n):\n",
    "        img = np.array(batch[0][i] * 255, dtype='uint8')\n",
    "        ax = axes[i // num_col, i % num_col]\n",
    "        ax.imshow(img)\n",
    "        \n",
    "    plt.tight_layout()\n",
    "    plt.show()\n",
    "\n",
    "\n",
    "visualize_batch(batch=first_batch)"
   ]
  },
  {
   "cell_type": "markdown",
   "metadata": {},
   "source": [
    "- We definitely have some weird ones, but overall, data augmentation is doing a decent job by adding variety to our dataset\n",
    "- Finally, let's load in both training and validation images\n",
    "    - We need to reset the training images because we went over the first batch"
   ]
  },
  {
   "cell_type": "code",
   "execution_count": null,
   "metadata": {
    "id": "OAL4l9SmfGfa"
   },
   "outputs": [],
   "source": [
    "train_data = train_datagen.flow_from_directory(\n",
    "    directory='data/train/',\n",
    "    target_size=(224, 224),\n",
    "    class_mode='categorical',\n",
    "    batch_size=64,\n",
    "    seed=42\n",
    ")\n",
    "\n",
    "valid_data = valid_datagen.flow_from_directory(\n",
    "    directory='data/validation/',\n",
    "    target_size=(224, 224),\n",
    "    class_mode='categorical',\n",
    "    batch_size=64,\n",
    "    seed=42\n",
    ")"
   ]
  },
  {
   "cell_type": "markdown",
   "metadata": {},
   "source": [
    "- And now we can train the model!\n",
    "\n",
    "<br>\n",
    "\n",
    "## Model Training - Can Data Augmentation Improve Accuracy?\n",
    "- We'll use the same model architecture we used when first training an image classifier with CNNs\n",
    "- It resulted in 75% accuracy on the validation set\n",
    "- Training the same model on augmented data should improve the validation accuracy\n",
    "- **Note**: I'm facing some GPU issues so the model was actually trained on the CPU, hence the long training time\n",
    "    - RTX3060Ti usually goes over an epoch in 22 seconds"
   ]
  },
  {
   "cell_type": "code",
   "execution_count": null,
   "metadata": {
    "id": "Miau3sbEfLNx"
   },
   "outputs": [],
   "source": [
    "model = tf.keras.Sequential([\n",
    "    layers.Conv2D(filters=32, kernel_size=(3, 3), input_shape=(224, 224, 3), activation='relu'),\n",
    "    layers.MaxPool2D(pool_size=(2, 2), padding='same'),\n",
    "    layers.Conv2D(filters=32, kernel_size=(3, 3), activation='relu'),\n",
    "    layers.MaxPool2D(pool_size=(2, 2), padding='same'),\n",
    "    layers.Flatten(),\n",
    "    layers.Dense(128, activation='relu'),\n",
    "    layers.Dense(2, activation='softmax')\n",
    "])\n",
    "\n",
    "model.compile(\n",
    "    loss=tf.keras.losses.categorical_crossentropy,\n",
    "    optimizer=tf.keras.optimizers.Adam(),\n",
    "    metrics=[tf.keras.metrics.BinaryAccuracy(name='accuracy')]\n",
    ")\n",
    "\n",
    "history = model.fit(\n",
    "    train_data,\n",
    "    validation_data=valid_data,\n",
    "    epochs=10\n",
    ")"
   ]
  },
  {
   "cell_type": "markdown",
   "metadata": {},
   "source": [
    "- We've increased the validation accuracy by almost 3%\n",
    "- It's definitely a step in the right direction, and a way to improve it even further is by using **transfer learning**\n",
    "    - You'll learn all about it in the next notebook"
   ]
  }
 ],
 "metadata": {
  "accelerator": "GPU",
  "colab": {
   "collapsed_sections": [],
   "name": "Untitled7.ipynb",
   "provenance": []
  },
  "kernelspec": {
   "display_name": "Python 3 (ipykernel)",
   "language": "python",
   "name": "python3"
  },
  "language_info": {
   "codemirror_mode": {
    "name": "ipython",
    "version": 3
   },
   "file_extension": ".py",
   "mimetype": "text/x-python",
   "name": "python",
   "nbconvert_exporter": "python",
   "pygments_lexer": "ipython3",
   "version": "3.10.5"
  }
 },
 "nbformat": 4,
 "nbformat_minor": 4
}
