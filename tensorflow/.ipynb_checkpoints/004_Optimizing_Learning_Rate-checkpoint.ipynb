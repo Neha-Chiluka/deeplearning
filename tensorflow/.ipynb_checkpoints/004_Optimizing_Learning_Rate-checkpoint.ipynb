{
 "cells": [
  {
   "cell_type": "markdown",
   "id": "f95fde14-38d9-42c9-81b3-ad5486546821",
   "metadata": {},
   "source": [
    "# Dataset import and preparation\n",
    "- https://www.kaggle.com/shelvigarg/wine-quality-dataset\n",
    "- Refer to https://github.com/fenago/deeplearning/blob/main/tensorflow/003_TensorFlow_Classification.ipynb for detailed preparation instructions"
   ]
  },
  {
   "cell_type": "code",
   "execution_count": null,
   "id": "87b44aa3-eed1-47a1-8049-c162ba03c0d1",
   "metadata": {},
   "outputs": [],
   "source": [
    "import os\n",
    "import numpy as np\n",
    "import pandas as pd\n",
    "import warnings\n",
    "os.environ['TF_CPP_MIN_LOG_LEVEL'] = '2' \n",
    "warnings.filterwarnings('ignore')\n",
    "\n",
    "df = pd.read_csv('data/winequalityN.csv')\n",
    "df.sample(5)"
   ]
  },
  {
   "cell_type": "code",
   "execution_count": null,
   "id": "c2f3b3dc-7fdb-4223-ae26-132202e7ba7b",
   "metadata": {},
   "outputs": [],
   "source": [
    "from sklearn.model_selection import train_test_split\n",
    "from sklearn.preprocessing import StandardScaler\n",
    "\n",
    "\n",
    "# Prepare the data\n",
    "df = df.dropna()\n",
    "df['is_white_wine'] = [1 if typ == 'white' else 0 for typ in df['type']]\n",
    "df['is_good_wine'] = [1 if quality >= 6 else 0 for quality in df['quality']]\n",
    "df.drop(['type', 'quality'], axis=1, inplace=True)\n",
    "\n",
    "# Train/test split\n",
    "X = df.drop('is_good_wine', axis=1)\n",
    "y = df['is_good_wine']\n",
    "X_train, X_test, y_train, y_test = train_test_split(\n",
    "    X, y, \n",
    "    test_size=0.2, random_state=42\n",
    ")\n",
    "\n",
    "# Scaling\n",
    "scaler = StandardScaler()\n",
    "X_train_scaled = scaler.fit_transform(X_train)\n",
    "X_test_scaled = scaler.transform(X_test)"
   ]
  },
  {
   "cell_type": "code",
   "execution_count": null,
   "id": "9746427f-6680-4292-a27e-e25a1ab31e66",
   "metadata": {},
   "outputs": [],
   "source": [
    "X_train_scaled[:3]"
   ]
  },
  {
   "cell_type": "markdown",
   "id": "022ef4c7-a88a-46e2-b2ec-744ae05c83f6",
   "metadata": {},
   "source": [
    "<br>\n",
    "\n",
    "# Training a model which finds the optimal learning rate"
   ]
  },
  {
   "cell_type": "code",
   "execution_count": null,
   "id": "8065d7d8-9858-425a-82a0-372b921a550a",
   "metadata": {},
   "outputs": [],
   "source": [
    "import tensorflow as tf\n",
    "tf.random.set_seed(42)"
   ]
  },
  {
   "cell_type": "markdown",
   "id": "877a7242-6b99-4957-b3a0-9f6cbd9d5712",
   "metadata": {},
   "source": [
    "- This will be the minimum and maximum values for our learning rate:"
   ]
  },
  {
   "cell_type": "code",
   "execution_count": null,
   "id": "ca2ef319-8c71-4bf4-a04d-08cfc1514fb5",
   "metadata": {},
   "outputs": [],
   "source": [
    "1e-3 * 10 ** (1 / 30), 1e-3 * 10 ** (100 / 30)"
   ]
  },
  {
   "cell_type": "markdown",
   "id": "5991f2ab-a1da-4c0f-a2c9-6be230f2e1ba",
   "metadata": {},
   "source": [
    "- You can pass it as a `LearningRateScheduler` callback when fitting the model:"
   ]
  },
  {
   "cell_type": "code",
   "execution_count": null,
   "id": "e78957d7-6279-4ba9-91fe-87cc8fdaf366",
   "metadata": {},
   "outputs": [],
   "source": [
    "initial_model = tf.keras.Sequential([\n",
    "    tf.keras.layers.Dense(128, activation='relu'),\n",
    "    tf.keras.layers.Dense(256, activation='relu'),\n",
    "    tf.keras.layers.Dense(256, activation='relu'),\n",
    "    tf.keras.layers.Dense(1, activation='sigmoid')\n",
    "])\n",
    "\n",
    "initial_model.compile(\n",
    "    loss=tf.keras.losses.binary_crossentropy,\n",
    "    optimizer=tf.keras.optimizers.Adam(),\n",
    "    metrics=[\n",
    "        tf.keras.metrics.BinaryAccuracy(name='accuracy')\n",
    "    ]\n",
    ")\n",
    "\n",
    "initial_history = initial_model.fit(\n",
    "    X_train_scaled,\n",
    "    y_train,\n",
    "    epochs=100,\n",
    "    callbacks=[\n",
    "        tf.keras.callbacks.LearningRateScheduler(\n",
    "            lambda epoch: 1e-3 * 10 ** (epoch / 30)\n",
    "        )\n",
    "    ]\n",
    ")"
   ]
  },
  {
   "cell_type": "markdown",
   "id": "3118df80-7ba6-41e4-bbe2-243f001ba4fe",
   "metadata": {},
   "source": [
    "- The accuracy was terrible at the end - makes sense as our model had a huge learning rate\n",
    "- Let's plot loss vs. accuracy vs. learning rate:"
   ]
  },
  {
   "cell_type": "code",
   "execution_count": null,
   "id": "5ec6f417-b72c-48ac-98f1-84675e9ac184",
   "metadata": {},
   "outputs": [],
   "source": [
    "import matplotlib.pyplot as plt\n",
    "from matplotlib import rcParams\n",
    "\n",
    "rcParams['figure.figsize'] = (18, 8)\n",
    "rcParams['axes.spines.top'] = False\n",
    "rcParams['axes.spines.right'] = False"
   ]
  },
  {
   "cell_type": "code",
   "execution_count": null,
   "id": "d24bf68a-4519-49fb-bcae-c588d25fe1c6",
   "metadata": {},
   "outputs": [],
   "source": [
    "plt.plot(np.arange(1, 101), initial_history.history['loss'], label='Loss', lw=3)\n",
    "plt.plot(np.arange(1, 101), initial_history.history['accuracy'], label='Accuracy', lw=3)\n",
    "plt.plot(np.arange(1, 101), initial_history.history['lr'], label='Learning rate', color='#000', lw=3, linestyle='--')\n",
    "plt.title('Evaluation metrics', size=20)\n",
    "plt.xlabel('Epoch', size=14)\n",
    "plt.legend()\n",
    "plt.savefig('eval_vs_lr.jpg', dpi=300, bbox_inches='tight');"
   ]
  },
  {
   "cell_type": "markdown",
   "id": "683104ee-4649-4d51-a1e1-b4c886d7a95c",
   "metadata": {},
   "source": [
    "- Accuracy dipped significantly around epoch 50, then flattened, and dipped once again towards the end\n",
    "- The exact opposite happened to loss\n",
    "- Let's now plot the learning rate against loss:"
   ]
  },
  {
   "cell_type": "code",
   "execution_count": null,
   "id": "806ddda1-3a17-47c7-be1e-119fa20dd808",
   "metadata": {},
   "outputs": [],
   "source": [
    "learning_rates = 1e-3 * (10 ** (np.arange(100) / 30))\n",
    "plt.semilogx(learning_rates, initial_history.history['loss'], lw=3, color='#000')\n",
    "plt.title('Learning rate vs. loss', size=20)\n",
    "plt.xlabel('Learning rate', size=14)\n",
    "plt.ylabel('Loss', size=14)\n",
    "plt.savefig('lr_vs_loss.jpg', dpi=300, bbox_inches='tight');"
   ]
  },
  {
   "cell_type": "markdown",
   "id": "6e4cfb45-4c29-495d-8a2f-02fd2fa34498",
   "metadata": {},
   "source": [
    "<br>\n",
    "\n",
    "# Training a model with the optimal learning rate\n",
    "- You're looking for a learning rate value that achieved minimum loss\n",
    "- Looks like 0.007 works the best for this dataset\n",
    "- Let's retrain the model:"
   ]
  },
  {
   "cell_type": "code",
   "execution_count": null,
   "id": "26fd8423-5f72-4083-ae4f-6d84be0ac2f2",
   "metadata": {},
   "outputs": [],
   "source": [
    "model_optimized = tf.keras.Sequential([\n",
    "    tf.keras.layers.Dense(128, activation='relu'),\n",
    "    tf.keras.layers.Dense(256, activation='relu'),\n",
    "    tf.keras.layers.Dense(256, activation='relu'),\n",
    "    tf.keras.layers.Dense(1, activation='sigmoid')\n",
    "])\n",
    "\n",
    "model_optimized.compile(\n",
    "    loss=tf.keras.losses.binary_crossentropy,\n",
    "    optimizer=tf.keras.optimizers.Adam(learning_rate=0.007),\n",
    "    metrics=[\n",
    "        tf.keras.metrics.BinaryAccuracy(name='accuracy')\n",
    "    ]\n",
    ")\n",
    "\n",
    "history_optimized = model_optimized.fit(\n",
    "    X_train_scaled,\n",
    "    y_train,\n",
    "    epochs=100\n",
    ")"
   ]
  },
  {
   "cell_type": "markdown",
   "id": "d9dfb591-3ea7-4ada-bafc-baf30b2b05c0",
   "metadata": {},
   "source": [
    "- Susipiciously high training accuracy - possible overfit\n",
    "- Let's plot loss vs. accuracy:"
   ]
  },
  {
   "cell_type": "code",
   "execution_count": null,
   "id": "c74908e5-a443-4261-9dc0-61368649b9e7",
   "metadata": {},
   "outputs": [],
   "source": [
    "plt.plot(np.arange(1, 101), history_optimized.history['loss'], label='Loss', lw=3)\n",
    "plt.plot(np.arange(1, 101), history_optimized.history['accuracy'], label='Accuracy', lw=3)\n",
    "plt.title('Accuracy vs. Loss per epoch', size=20)\n",
    "plt.xlabel('Epoch', size=14)\n",
    "plt.legend()\n",
    "plt.savefig('accuracy_per_epoch.jpg', dpi=300, bbox_inches='tight');"
   ]
  },
  {
   "cell_type": "markdown",
   "id": "44370ad4-8d6b-4c12-9596-8945f82e59c9",
   "metadata": {},
   "source": [
    "<br>\n",
    "# Model evaluation on the test set\n",
    "- Let's now make predictions, convert them to classes and print accuracy and confusion matrix:"
   ]
  },
  {
   "cell_type": "code",
   "execution_count": null,
   "id": "c048d4c8-3593-4845-9c69-4aa7d92b8b99",
   "metadata": {},
   "outputs": [],
   "source": [
    "predictions = model_optimized.predict(X_test_scaled)\n",
    "predictions"
   ]
  },
  {
   "cell_type": "code",
   "execution_count": null,
   "id": "1d6ebde4-5310-46f2-907f-f941ee436f08",
   "metadata": {},
   "outputs": [],
   "source": [
    "prediction_classes = [1 if prob > 0.5 else 0 for prob in np.ravel(predictions)]\n",
    "print(prediction_classes[:20])"
   ]
  },
  {
   "cell_type": "code",
   "execution_count": null,
   "id": "09bb46d9-e89f-4bde-8043-f9b4d3064a88",
   "metadata": {},
   "outputs": [],
   "source": [
    "from sklearn.metrics import confusion_matrix\n",
    "from sklearn.metrics import accuracy_score\n",
    "\n",
    "print(f'Accuracy on the test set: {accuracy_score(y_test, prediction_classes):.2f}')\n",
    "print()\n",
    "print('Confusion matrix:')\n",
    "print(confusion_matrix(y_test, prediction_classes))"
   ]
  },
  {
   "cell_type": "markdown",
   "id": "1fff8daf-7dcb-46a0-be3b-15e06973dad0",
   "metadata": {},
   "source": [
    "- The accuracy on the test set increased by 3% compared to the default learning rate (0.001) used in the previous notebook"
   ]
  }
 ],
 "metadata": {
  "kernelspec": {
   "display_name": "Python 3 (ipykernel)",
   "language": "python",
   "name": "python3"
  },
  "language_info": {
   "codemirror_mode": {
    "name": "ipython",
    "version": 3
   },
   "file_extension": ".py",
   "mimetype": "text/x-python",
   "name": "python",
   "nbconvert_exporter": "python",
   "pygments_lexer": "ipython3",
   "version": "3.10.5"
  }
 },
 "nbformat": 4,
 "nbformat_minor": 5
}
