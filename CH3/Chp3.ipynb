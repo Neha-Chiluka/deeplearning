{
  "nbformat": 4,
  "nbformat_minor": 0,
  "metadata": {
    "colab": {
      "name": "Chp3.ipynb",
      "provenance": [],
      "collapsed_sections": []
    },
    "kernelspec": {
      "name": "python3",
      "display_name": "Python 3"
    }
  },
  "cells": [
    {
      "cell_type": "markdown",
      "metadata": {
        "id": "CPnEi48msWyc",
        "colab_type": "text"
      },
      "source": [
        "# **A Simple Neural Network Making a Prediction**"
      ]
    },
    {
      "cell_type": "markdown",
      "metadata": {
        "id": "rCGLgw5tss1x",
        "colab_type": "text"
      },
      "source": [
        "### **What is a Neural Network?** "
      ]
    },
    {
      "cell_type": "code",
      "metadata": {
        "id": "En0kxeiFrc6D",
        "colab_type": "code",
        "colab": {
          "base_uri": "https://localhost:8080/",
          "height": 34
        },
        "outputId": "0f74a7dc-13d5-42db-97ef-6acac59b101b"
      },
      "source": [
        "# The network:\n",
        "weight = 0.2 \n",
        "def neural_network(input, weight):\n",
        "    prediction = input * weight\n",
        "    return prediction\n",
        "\n",
        "# How we use the network to predict something:\n",
        "number_of_bedrooms = [3, 2, 4, 3, 5]\n",
        "input = number_of_bedrooms[0]\n",
        "pred = neural_network(input,weight)\n",
        "print(pred)"
      ],
      "execution_count": 8,
      "outputs": [
        {
          "output_type": "stream",
          "text": [
            "0.6000000000000001\n"
          ],
          "name": "stdout"
        }
      ]
    },
    {
      "cell_type": "markdown",
      "metadata": {
        "id": "T0R3G7yyvhhd",
        "colab_type": "text"
      },
      "source": [
        "# **Making a Prediction with Multiple Inputs**"
      ]
    },
    {
      "cell_type": "markdown",
      "metadata": {
        "id": "aUSd8o5YvsRI",
        "colab_type": "text"
      },
      "source": [
        "### **Complete Runnable Code**"
      ]
    },
    {
      "cell_type": "code",
      "metadata": {
        "id": "ppGoAvbWwnx6",
        "colab_type": "code",
        "colab": {
          "base_uri": "https://localhost:8080/",
          "height": 34
        },
        "outputId": "2dfd8224-9e50-4911-80b4-0d321d57c2b4"
      },
      "source": [
        "def w_sum(a,b):\n",
        "    assert(len(a) == len(b))\n",
        "    output = 0\n",
        "    for i in range(len(a)):\n",
        "        output += (a[i] * b[i])\n",
        "    return output\n",
        "          #bedrooms_weight #bathrooms_weight, #floors_weight #cond_weight\n",
        "weights = [0.2, 0.01, 0.2, -0.2] \n",
        "    \n",
        "def neural_network(input, weights):\n",
        "    pred = w_sum(input,weights)\n",
        "    return pred\n",
        "\n",
        "# This dataset is the housing \n",
        "# dataset of a society for 5 houses.\n",
        "\n",
        "# bedrooms = number of bedrooms in a house\n",
        "# bathrooms = number of bathrooms in a house\n",
        "# floors = number of floors in a house\n",
        "# condition = condition of house (higher the number worst the condition of house)\n",
        "\n",
        "bedrooms =  [3, 2, 4, 3, 5]\n",
        "bathrooms = [1, 1, 3, 2, 4]\n",
        "floors = [1, 1, 2, 2, 1]\n",
        "condition = [0.48, 0.85, 0.56, 0.2, 0.1]\n",
        "# Input corresponds to every entry\n",
        "# for the first game of the season.\n",
        "\n",
        "input = [bedrooms[0], bathrooms[0], floors[0], condition[0]]\n",
        "pred = neural_network(input,weights)\n",
        "print(pred)"
      ],
      "execution_count": 23,
      "outputs": [
        {
          "output_type": "stream",
          "text": [
            "0.7140000000000001\n"
          ],
          "name": "stdout"
        }
      ]
    },
    {
      "cell_type": "markdown",
      "metadata": {
        "id": "Bl_EyAQZ1CnW",
        "colab_type": "text"
      },
      "source": [
        "### **NumPy Code**"
      ]
    },
    {
      "cell_type": "code",
      "metadata": {
        "id": "DIVy-Oqd1KNd",
        "colab_type": "code",
        "colab": {
          "base_uri": "https://localhost:8080/",
          "height": 34
        },
        "outputId": "12509eff-5dcb-4403-a515-11b0c414e802"
      },
      "source": [
        "import numpy as np\n",
        "weights = np.array([0.2, 0.01, 0.2, -0.2])\n",
        "def neural_network(input, weights):\n",
        "    pred = input.dot(weights)\n",
        "    return pred\n",
        "\n",
        "bedrooms =  np.array([3, 2, 4, 3, 5])\n",
        "bathrooms = np.array([1, 1, 3, 2, 4])\n",
        "floors = np.array([1, 1, 2, 2, 1])\n",
        "condition = np.array([0.48, 0.85, 0.56, 0.2, 0.1])\n",
        "# Input corresponds to every entry\n",
        "# for the first house in the dataset.\n",
        "input = np.array([bedrooms[0], bathrooms[0], floors[0], condition[0]])\n",
        "pred = neural_network(input,weights)\n",
        "\n",
        "print(pred)"
      ],
      "execution_count": 24,
      "outputs": [
        {
          "output_type": "stream",
          "text": [
            "0.7140000000000001\n"
          ],
          "name": "stdout"
        }
      ]
    },
    {
      "cell_type": "markdown",
      "metadata": {
        "id": "YG-A_SsV2l3g",
        "colab_type": "text"
      },
      "source": [
        "# ***Making a Prediction with Multiple Outputs***"
      ]
    },
    {
      "cell_type": "code",
      "metadata": {
        "id": "-_4zB0GV20fr",
        "colab_type": "code",
        "colab": {
          "base_uri": "https://localhost:8080/",
          "height": 34
        },
        "outputId": "35cd31be-549c-4a9a-feb9-3cac9864a987"
      },
      "source": [
        "# Instead of predicting just \n",
        "# whether the house will be rente or not, \n",
        "# now we're also predicting whether\n",
        "# the house need to be renovated or not\n",
        "# We are making this prediction using only\n",
        "# the condition of the house data point.\n",
        "\n",
        "def ele_mul(number,vector):\n",
        "    output = [0,0]\n",
        "    assert(len(output) == len(vector))\n",
        "    for i in range(len(vector)):\n",
        "        output[i] = number * vector[i]\n",
        "    return output\n",
        "\n",
        "weights = [-0.2, 0.8] \n",
        "\n",
        "def neural_network(input, weights):\n",
        "    pred = ele_mul(input,weights)\n",
        "    return pred\n",
        "    \n",
        "condition = [0.48, 0.85, 0.56, 0.2, 0.1]\n",
        "input = condition[0]\n",
        "pred = neural_network(input,weights)\n",
        "\n",
        "print(pred)"
      ],
      "execution_count": 25,
      "outputs": [
        {
          "output_type": "stream",
          "text": [
            "[-0.096, 0.384]\n"
          ],
          "name": "stdout"
        }
      ]
    },
    {
      "cell_type": "markdown",
      "metadata": {
        "id": "PIhAjtyI9WIr",
        "colab_type": "text"
      },
      "source": [
        "# ***Predicting with Multiple Inputs & Outputs***"
      ]
    },
    {
      "cell_type": "code",
      "metadata": {
        "id": "jFlW9D4y99fB",
        "colab_type": "code",
        "colab": {
          "base_uri": "https://localhost:8080/",
          "height": 34
        },
        "outputId": "8d410ef8-776b-4440-8c25-a106bc455ce1"
      },
      "source": [
        "#bedrooms condition\n",
        "weights = [[0.2, -0.2], #rented/not?\n",
        "            [0.1, 0.8]] #need to renovate?\n",
        "\n",
        "def w_sum(a,b):\n",
        "    assert(len(a) == len(b))\n",
        "    output = 0\n",
        "    for i in range(len(a)):\n",
        "        output += (a[i] * b[i])\n",
        "    return output\n",
        "\n",
        "def vect_mat_mul(vect,matrix):\n",
        "    assert(len(vect) == len(matrix))\n",
        "    output = [0,0]\n",
        "    for i in range(len(vect)):\n",
        "        output[i] = w_sum(vect,matrix[i])\n",
        "    return output\n",
        "\n",
        "def neural_network(input, weights):\n",
        "    pred = vect_mat_mul(input,weights)\n",
        "    return pred\n",
        "\n",
        "# This dataset is the housing \n",
        "# dataset of a society of 5\n",
        "# houses\n",
        "\n",
        "# bedrooms = number of bedrooms in a house\n",
        "# bathrooms = number of bathrooms in a house\n",
        "# floors = number of floors in a house\n",
        "# condition = condition of house (higher the number worst the condition of house)\n",
        "\n",
        "bedrooms =  [3, 2, 4, 3, 5]\n",
        "condition = [0.48, 0.85, 0.56, 0.2, 0.1]\n",
        "\n",
        "# Input corresponds to every entry\n",
        "# for the first house of the society.\n",
        "\n",
        "input = [bedrooms[0], condition[0]]\n",
        "pred = neural_network(input,weights)\n",
        "\n",
        "print(pred)"
      ],
      "execution_count": 35,
      "outputs": [
        {
          "output_type": "stream",
          "text": [
            "[0.5040000000000001, 0.684]\n"
          ],
          "name": "stdout"
        }
      ]
    },
    {
      "cell_type": "markdown",
      "metadata": {
        "id": "_6vWcuXNFX2l",
        "colab_type": "text"
      },
      "source": [
        "# ***Predicting on Predictions***"
      ]
    },
    {
      "cell_type": "code",
      "metadata": {
        "id": "4V-paff1Fcxf",
        "colab_type": "code",
        "colab": {
          "base_uri": "https://localhost:8080/",
          "height": 34
        },
        "outputId": "9de7351e-2ac1-424e-a136-5be28e85d532"
      },
      "source": [
        "#bedrooms conditions\n",
        "ih_wgt = [ [0.1, -0.1], #hid[0]\n",
        "           [0.1, 0.3]] #hid[1]\n",
        "\n",
        "           #hid[0] hid[1]\n",
        "hp_wgt = [ [0.3, 0.004], #rented/not?\n",
        "           [0.2, 0.7]] #to be renovated?\n",
        "\n",
        "weights = [ih_wgt, hp_wgt]\n",
        "\n",
        "def neural_network(input, weights):\n",
        "    hid = vect_mat_mul(input,weights[0])\n",
        "    pred = vect_mat_mul(hid,weights[1])\n",
        "    return pred\n",
        "\n",
        "bedrooms =  [3, 2, 4, 3, 5]\n",
        "condition = [0.48, 0.85, 0.56, 0.2, 0.1]\n",
        "\n",
        "# Input corresponds to every entry\n",
        "# for the first house of the society.\n",
        "\n",
        "input = [bedrooms[0], condition[0]]\n",
        "pred = neural_network(input,weights)\n",
        "\n",
        "print(pred)"
      ],
      "execution_count": 58,
      "outputs": [
        {
          "output_type": "stream",
          "text": [
            "[0.07737600000000001, 0.3612]\n"
          ],
          "name": "stdout"
        }
      ]
    },
    {
      "cell_type": "markdown",
      "metadata": {
        "id": "Qq8gjspJJfLz",
        "colab_type": "text"
      },
      "source": [
        "# ***NumPy Version***"
      ]
    },
    {
      "cell_type": "code",
      "metadata": {
        "id": "0Jpefl4dJnxJ",
        "colab_type": "code",
        "colab": {
          "base_uri": "https://localhost:8080/",
          "height": 34
        },
        "outputId": "c05862ca-38fb-47b9-9974-5abb54612051"
      },
      "source": [
        "import numpy as np\n",
        "\n",
        "#bedrooms condition\n",
        "ih_wgt = np.array([ \n",
        "            [0.1, -0.1], #hid[0]\n",
        "           [0.1, 0.3]]).T #hid[1]\n",
        "            \n",
        "\n",
        "\n",
        "# hid[0] hid[1]\n",
        "hp_wgt = np.array([  \n",
        "                    [0.3, 0.004], #rented/not?\n",
        "                    [0.2, 0.7]]).T #to be renovated?\n",
        "\n",
        "weights = [ih_wgt, hp_wgt]\n",
        "\n",
        "def neural_network(input, weights):\n",
        "\n",
        "    hid = input.dot(weights[0])\n",
        "    pred = hid.dot(weights[1])\n",
        "    return pred\n",
        "\n",
        "\n",
        "bedrooms =  np.array([3, 2, 4, 3, 5])\n",
        "condition = np.array([0.48, 0.85, 0.56, 0.2, 0.1])\n",
        "\n",
        "input = np.array([bedrooms[0], condition[0]])\n",
        "\n",
        "pred = neural_network(input,weights)\n",
        "print(pred)"
      ],
      "execution_count": 59,
      "outputs": [
        {
          "output_type": "stream",
          "text": [
            "[0.077376 0.3612  ]\n"
          ],
          "name": "stdout"
        }
      ]
    },
    {
      "cell_type": "markdown",
      "metadata": {
        "id": "LnURKRl-K2Bt",
        "colab_type": "text"
      },
      "source": [
        "# **A Quick Primer on NumPy**"
      ]
    },
    {
      "cell_type": "code",
      "metadata": {
        "id": "GS9OiiMhK4oZ",
        "colab_type": "code",
        "colab": {
          "base_uri": "https://localhost:8080/",
          "height": 151
        },
        "outputId": "158ab8ea-b948-481e-9d63-f480a8dbb35e"
      },
      "source": [
        "import numpy as np\n",
        "\n",
        "a = np.array([0,1,2,3]) # a vector\n",
        "b = np.array([4,5,6,7]) # another vector\n",
        "c = np.array([[0,1,2,3], # a matrix\n",
        "              [4,5,6,7]])\n",
        "\n",
        "d = np.zeros((2,4)) # (2x4 matrix of zeros)\n",
        "e = np.random.rand(2,5) # random 2x5\n",
        "# matrix with all numbers between 0 and 1\n",
        "\n",
        "print(a)\n",
        "print(b)\n",
        "print(c)\n",
        "print(d)\n",
        "print(e)"
      ],
      "execution_count": 60,
      "outputs": [
        {
          "output_type": "stream",
          "text": [
            "[0 1 2 3]\n",
            "[4 5 6 7]\n",
            "[[0 1 2 3]\n",
            " [4 5 6 7]]\n",
            "[[0. 0. 0. 0.]\n",
            " [0. 0. 0. 0.]]\n",
            "[[0.02174913 0.43127535 0.34439352 0.90742077 0.96211843]\n",
            " [0.03346666 0.54290302 0.31236018 0.65180825 0.95883748]]\n"
          ],
          "name": "stdout"
        }
      ]
    },
    {
      "cell_type": "code",
      "metadata": {
        "id": "yGs0EJ5OLHsJ",
        "colab_type": "code",
        "colab": {
          "base_uri": "https://localhost:8080/",
          "height": 330
        },
        "outputId": "44b061fc-3d39-43d7-c053-af9fd033c677"
      },
      "source": [
        "print(a * 0.1) # multiplies every number in vector \"a\" by 0.1\n",
        "      \n",
        "print(c * 0.2) # multiplies every number in matrix \"c\" by 0.2\n",
        "      \n",
        "print(a * b) # multiplies elementwise between a and b (columns paired up)\n",
        "      \n",
        "print(a * b * 0.2) # elementwise multiplication then multiplied by 0.2\n",
        "      \n",
        "print(a * c) # since c has the same number of columns as a, this performs\n",
        "# elementwise multiplication on every row of the matrix \"c\"\n",
        "\n",
        "print(a * e) # since a and e don't have the same number of columns, this\n",
        "# throws a \"Value Error: operands could not be broadcast together with..\"\n"
      ],
      "execution_count": 61,
      "outputs": [
        {
          "output_type": "stream",
          "text": [
            "[0.  0.1 0.2 0.3]\n",
            "[[0.  0.2 0.4 0.6]\n",
            " [0.8 1.  1.2 1.4]]\n",
            "[ 0  5 12 21]\n",
            "[0.  1.  2.4 4.2]\n",
            "[[ 0  1  4  9]\n",
            " [ 0  5 12 21]]\n"
          ],
          "name": "stdout"
        },
        {
          "output_type": "error",
          "ename": "ValueError",
          "evalue": "ignored",
          "traceback": [
            "\u001b[0;31m---------------------------------------------------------------------------\u001b[0m",
            "\u001b[0;31mValueError\u001b[0m                                Traceback (most recent call last)",
            "\u001b[0;32m<ipython-input-61-d1fc81f07cd1>\u001b[0m in \u001b[0;36m<module>\u001b[0;34m()\u001b[0m\n\u001b[1;32m     10\u001b[0m \u001b[0;31m# elementwise multiplication on every row of the matrix \"c\"\u001b[0m\u001b[0;34m\u001b[0m\u001b[0;34m\u001b[0m\u001b[0;34m\u001b[0m\u001b[0m\n\u001b[1;32m     11\u001b[0m \u001b[0;34m\u001b[0m\u001b[0m\n\u001b[0;32m---> 12\u001b[0;31m \u001b[0mprint\u001b[0m\u001b[0;34m(\u001b[0m\u001b[0ma\u001b[0m \u001b[0;34m*\u001b[0m \u001b[0me\u001b[0m\u001b[0;34m)\u001b[0m \u001b[0;31m# since a and e don't have the same number of columns, this\u001b[0m\u001b[0;34m\u001b[0m\u001b[0;34m\u001b[0m\u001b[0m\n\u001b[0m\u001b[1;32m     13\u001b[0m \u001b[0;31m# throws a \"Value Error: operands could not be broadcast together with..\"\u001b[0m\u001b[0;34m\u001b[0m\u001b[0;34m\u001b[0m\u001b[0;34m\u001b[0m\u001b[0m\n",
            "\u001b[0;31mValueError\u001b[0m: operands could not be broadcast together with shapes (4,) (2,5) "
          ]
        }
      ]
    },
    {
      "cell_type": "code",
      "metadata": {
        "id": "I1IBWmJaLJhx",
        "colab_type": "code",
        "colab": {
          "base_uri": "https://localhost:8080/",
          "height": 34
        },
        "outputId": "84ede773-e7a6-41c7-fcda-862aa998b370"
      },
      "source": [
        "a = np.zeros((1,4)) # vector of length 4\n",
        "b = np.zeros((4,3)) # matrix with 4 rows & 3 columns\n",
        "\n",
        "c = a.dot(b)\n",
        "print(c.shape)"
      ],
      "execution_count": 62,
      "outputs": [
        {
          "output_type": "stream",
          "text": [
            "(1, 3)\n"
          ],
          "name": "stdout"
        }
      ]
    },
    {
      "cell_type": "code",
      "metadata": {
        "id": "F6XXWF3eLTFq",
        "colab_type": "code",
        "colab": {
          "base_uri": "https://localhost:8080/",
          "height": 262
        },
        "outputId": "66809db8-527d-4670-ff6e-25f6bf50103b"
      },
      "source": [
        "a = np.zeros((2,4)) # matrix with 2 rows and 4 columns\n",
        "b = np.zeros((4,3)) # matrix with 4 rows & 3 columns\n",
        "\n",
        "c = a.dot(b)\n",
        "print(c.shape) # outputs (2,3)\n",
        "\n",
        "e = np.zeros((2,1)) # matrix with 2 rows and 1 columns\n",
        "f = np.zeros((1,3)) # matrix with 1 row & 3 columns\n",
        "\n",
        "g = e.dot(f)\n",
        "print(g.shape) # outputs (2,3)\n",
        "\n",
        "h = np.zeros((5,4)).T # matrix with 4 rows and 5 columns\n",
        "i = np.zeros((5,6)) # matrix with 6 rows & 5 columns\n",
        "\n",
        "j = h.dot(i)\n",
        "print(j.shape) # outputs (4,6)\n",
        "\n",
        "h = np.zeros((5,4)) # matrix with 5 rows and 4 columns\n",
        "i = np.zeros((5,6)) # matrix with 5 rows & 6 columns\n",
        "j = h.dot(i)\n",
        "print(j.shape) # throws an error"
      ],
      "execution_count": 63,
      "outputs": [
        {
          "output_type": "stream",
          "text": [
            "(2, 3)\n",
            "(2, 3)\n",
            "(4, 6)\n"
          ],
          "name": "stdout"
        },
        {
          "output_type": "error",
          "ename": "ValueError",
          "evalue": "ignored",
          "traceback": [
            "\u001b[0;31m---------------------------------------------------------------------------\u001b[0m",
            "\u001b[0;31mValueError\u001b[0m                                Traceback (most recent call last)",
            "\u001b[0;32m<ipython-input-63-eaa970ddaf33>\u001b[0m in \u001b[0;36m<module>\u001b[0;34m()\u001b[0m\n\u001b[1;32m     19\u001b[0m \u001b[0mh\u001b[0m \u001b[0;34m=\u001b[0m \u001b[0mnp\u001b[0m\u001b[0;34m.\u001b[0m\u001b[0mzeros\u001b[0m\u001b[0;34m(\u001b[0m\u001b[0;34m(\u001b[0m\u001b[0;36m5\u001b[0m\u001b[0;34m,\u001b[0m\u001b[0;36m4\u001b[0m\u001b[0;34m)\u001b[0m\u001b[0;34m)\u001b[0m \u001b[0;31m# matrix with 5 rows and 4 columns\u001b[0m\u001b[0;34m\u001b[0m\u001b[0;34m\u001b[0m\u001b[0m\n\u001b[1;32m     20\u001b[0m \u001b[0mi\u001b[0m \u001b[0;34m=\u001b[0m \u001b[0mnp\u001b[0m\u001b[0;34m.\u001b[0m\u001b[0mzeros\u001b[0m\u001b[0;34m(\u001b[0m\u001b[0;34m(\u001b[0m\u001b[0;36m5\u001b[0m\u001b[0;34m,\u001b[0m\u001b[0;36m6\u001b[0m\u001b[0;34m)\u001b[0m\u001b[0;34m)\u001b[0m \u001b[0;31m# matrix with 5 rows & 6 columns\u001b[0m\u001b[0;34m\u001b[0m\u001b[0;34m\u001b[0m\u001b[0m\n\u001b[0;32m---> 21\u001b[0;31m \u001b[0mj\u001b[0m \u001b[0;34m=\u001b[0m \u001b[0mh\u001b[0m\u001b[0;34m.\u001b[0m\u001b[0mdot\u001b[0m\u001b[0;34m(\u001b[0m\u001b[0mi\u001b[0m\u001b[0;34m)\u001b[0m\u001b[0;34m\u001b[0m\u001b[0;34m\u001b[0m\u001b[0m\n\u001b[0m\u001b[1;32m     22\u001b[0m \u001b[0mprint\u001b[0m\u001b[0;34m(\u001b[0m\u001b[0mj\u001b[0m\u001b[0;34m.\u001b[0m\u001b[0mshape\u001b[0m\u001b[0;34m)\u001b[0m \u001b[0;31m# throws an error\u001b[0m\u001b[0;34m\u001b[0m\u001b[0;34m\u001b[0m\u001b[0m\n",
            "\u001b[0;31mValueError\u001b[0m: shapes (5,4) and (5,6) not aligned: 4 (dim 1) != 5 (dim 0)"
          ]
        }
      ]
    }
  ]
}